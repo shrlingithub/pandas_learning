{
 "cells": [
  {
   "cell_type": "markdown",
   "id": "7da5f945",
   "metadata": {},
   "source": [
    "# 一、pandas基本数据结构\n",
    "#### 存储一维 values 的 Series \n",
    "#### 存储二维 values 的 DataFrame"
   ]
  },
  {
   "cell_type": "code",
   "execution_count": 2,
   "id": "4ef22877",
   "metadata": {},
   "outputs": [],
   "source": [
    "import pandas as pd"
   ]
  },
  {
   "cell_type": "markdown",
   "id": "c8ee5aa3",
   "metadata": {},
   "source": [
    "## 1. Series"
   ]
  },
  {
   "cell_type": "markdown",
   "id": "7e158e27",
   "metadata": {},
   "source": [
    "### Series 一般由四个部分组成，分别是序列的值 data 、索引 index 、存储类型 dtype 、序列的名字 name 。其中，索引也可以指定它的名字，默认为空。"
   ]
  },
  {
   "cell_type": "code",
   "execution_count": 4,
   "id": "3ec1779e",
   "metadata": {},
   "outputs": [
    {
     "data": {
      "text/plain": [
       "my_idx\n",
       "id1              100\n",
       "20                 a\n",
       "third    {'dic1': 5}\n",
       "Name: my_name, dtype: object"
      ]
     },
     "execution_count": 4,
     "metadata": {},
     "output_type": "execute_result"
    }
   ],
   "source": [
    "s = pd.Series(data = [100, 'a', {'dic1':5}],# 序列的值\n",
    "              index = pd.Index(['id1', 20, 'third'], name='my_idx'),# 索引 index\n",
    "              dtype = 'object',# 存储类型 dtyp\n",
    "              name = 'my_name'#序列的名字 name\n",
    "             )\n",
    "s"
   ]
  },
  {
   "cell_type": "markdown",
   "id": "a30dc8ba",
   "metadata": {},
   "source": [
    "## object类型\n",
    "### object 代表了一种混合类型，正如上面的例子中存储了整数、字符串以及 Python 的字典数据结构。此外，目前 pandas 把纯字符串序列也默认认为是一种 object 类型的序列，但它也可以用 string 类型存储"
   ]
  },
  {
   "cell_type": "markdown",
   "id": "06b24629",
   "metadata": {},
   "source": [
    "## 2. dataframe"
   ]
  },
  {
   "cell_type": "markdown",
   "id": "d7f1febe",
   "metadata": {},
   "source": [
    "### DataFrame 在 Series 的基础上增加了列索引，一个数据框可以由二维的 data 与行列索引来构造"
   ]
  },
  {
   "cell_type": "code",
   "execution_count": 5,
   "id": "2a2b9c27",
   "metadata": {},
   "outputs": [
    {
     "data": {
      "text/html": [
       "<div>\n",
       "<style scoped>\n",
       "    .dataframe tbody tr th:only-of-type {\n",
       "        vertical-align: middle;\n",
       "    }\n",
       "\n",
       "    .dataframe tbody tr th {\n",
       "        vertical-align: top;\n",
       "    }\n",
       "\n",
       "    .dataframe thead th {\n",
       "        text-align: right;\n",
       "    }\n",
       "</style>\n",
       "<table border=\"1\" class=\"dataframe\">\n",
       "  <thead>\n",
       "    <tr style=\"text-align: right;\">\n",
       "      <th></th>\n",
       "      <th>col_0</th>\n",
       "      <th>col_1</th>\n",
       "      <th>col_2</th>\n",
       "    </tr>\n",
       "  </thead>\n",
       "  <tbody>\n",
       "    <tr>\n",
       "      <th>row_0</th>\n",
       "      <td>1</td>\n",
       "      <td>a</td>\n",
       "      <td>1.2</td>\n",
       "    </tr>\n",
       "    <tr>\n",
       "      <th>row_1</th>\n",
       "      <td>2</td>\n",
       "      <td>b</td>\n",
       "      <td>2.2</td>\n",
       "    </tr>\n",
       "    <tr>\n",
       "      <th>row_2</th>\n",
       "      <td>3</td>\n",
       "      <td>c</td>\n",
       "      <td>3.2</td>\n",
       "    </tr>\n",
       "  </tbody>\n",
       "</table>\n",
       "</div>"
      ],
      "text/plain": [
       "       col_0 col_1  col_2\n",
       "row_0      1     a    1.2\n",
       "row_1      2     b    2.2\n",
       "row_2      3     c    3.2"
      ]
     },
     "execution_count": 5,
     "metadata": {},
     "output_type": "execute_result"
    }
   ],
   "source": [
    "data = [[1, 'a', 1.2], [2, 'b', 2.2], [3, 'c', 3.2]]\n",
    "df = pd.DataFrame(data = data,\n",
    "                  index = ['row_%d'%i for i in range(3)],\n",
    "                  columns=['col_0', 'col_1', 'col_2'])\n",
    "df"
   ]
  },
  {
   "cell_type": "markdown",
   "id": "f9648223",
   "metadata": {},
   "source": [
    "# 二、常用基本函数"
   ]
  },
  {
   "cell_type": "code",
   "execution_count": 9,
   "id": "7c09cf23",
   "metadata": {},
   "outputs": [],
   "source": [
    "df = pd.read_csv('../data/learn_pandas.csv')\n",
    "df_demo = df[['Height', 'Weight']]"
   ]
  },
  {
   "cell_type": "markdown",
   "id": "6342e1c1",
   "metadata": {},
   "source": [
    "### 1. 聚合函数"
   ]
  },
  {
   "cell_type": "markdown",
   "id": "3296351f",
   "metadata": {},
   "source": [
    "### quantile, count, idxmax 这三个函数，它们分别返回的是分位数、非缺失值个数、最大值对应的索引"
   ]
  },
  {
   "cell_type": "code",
   "execution_count": 10,
   "id": "6fcac361",
   "metadata": {},
   "outputs": [
    {
     "data": {
      "text/plain": [
       "Height    167.5\n",
       "Weight     65.0\n",
       "Name: 0.75, dtype: float64"
      ]
     },
     "execution_count": 10,
     "metadata": {},
     "output_type": "execute_result"
    }
   ],
   "source": [
    "df_demo.quantile(0.75)"
   ]
  },
  {
   "cell_type": "code",
   "execution_count": 11,
   "id": "36f1a441",
   "metadata": {},
   "outputs": [
    {
     "data": {
      "text/plain": [
       "Height    183\n",
       "Weight    189\n",
       "dtype: int64"
      ]
     },
     "execution_count": 11,
     "metadata": {},
     "output_type": "execute_result"
    }
   ],
   "source": [
    "df_demo.count()"
   ]
  },
  {
   "cell_type": "code",
   "execution_count": 12,
   "id": "0dcbb38a",
   "metadata": {},
   "outputs": [
    {
     "data": {
      "text/plain": [
       "Height    193\n",
       "Weight      2\n",
       "dtype: int64"
      ]
     },
     "execution_count": 12,
     "metadata": {},
     "output_type": "execute_result"
    }
   ],
   "source": [
    "df_demo.idxmax() # idxmin是对应的函数"
   ]
  },
  {
   "cell_type": "markdown",
   "id": "b9cb8fae",
   "metadata": {},
   "source": [
    "#### 上面这些所有的函数，由于操作后返回的是标量，所以又称为聚合函数，它们有一个公共参数 axis ，默认为0代表逐列聚合，如果设置为1则表示逐行聚合"
   ]
  },
  {
   "cell_type": "markdown",
   "id": "ecf4723a",
   "metadata": {},
   "source": [
    "### 2. 唯一值函数"
   ]
  },
  {
   "cell_type": "markdown",
   "id": "a1ef5aeb",
   "metadata": {},
   "source": [
    "#### unique 唯一值组成的列表\n",
    "#### nunique 唯一值的个数\n",
    "#### drop_duplicates 多个列组合的唯一值"
   ]
  },
  {
   "cell_type": "markdown",
   "id": "6a3a68b9",
   "metadata": {},
   "source": [
    "### 3. 排序函数"
   ]
  },
  {
   "cell_type": "markdown",
   "id": "e2b62615",
   "metadata": {},
   "source": [
    "#### 值排序 sort_values df_demo.sort_values(['Weight','Height'],ascending=[True,False])\n",
    "#### 索引排序 sort_index df_demo.sort_index(level=['Grade','Name'],ascending=[True,False])"
   ]
  },
  {
   "cell_type": "markdown",
   "id": "af8d9c41",
   "metadata": {},
   "source": [
    "### 4. 窗口对象\n",
    "#### 1. 滑窗对象\n",
    "#### 要使用滑窗函数，就必须先要对一个序列使用 .rolling 得到滑窗对象，其最重要的参数为窗口大小 window 。"
   ]
  },
  {
   "cell_type": "markdown",
   "id": "6da4d85b",
   "metadata": {},
   "source": [
    "#### shift, diff, pct_change 是一组类滑窗函数，它们的公共参数为 periods=n ，默认为1，分别表示取向前第 n 个元素的值、与向前第 n 个元素做差（与 Numpy 中不同，后者表示 n 阶差分）、与向前第 n 个元素相比计算增长率。这里的 n 可以为负，表示反方向的类似操作。"
   ]
  },
  {
   "cell_type": "markdown",
   "id": "c8136e84",
   "metadata": {},
   "source": [
    "#### 2. 扩张窗口\n",
    "#### 扩张窗口又称累计窗口，可以理解为一个动态长度的窗口，其窗口的大小就是从序列开始处到具体操作的对应位置，其使用的聚合函数会作用于这些逐步扩张的窗口上"
   ]
  },
  {
   "cell_type": "code",
   "execution_count": 14,
   "id": "9d1ee2d9",
   "metadata": {},
   "outputs": [
    {
     "name": "stdout",
     "output_type": "stream",
     "text": [
      "0    1.000000\n",
      "1    2.000000\n",
      "2    3.333333\n",
      "3    5.000000\n",
      "dtype: float64\n",
      "0     1\n",
      "1     3\n",
      "2     6\n",
      "3    10\n",
      "dtype: int64\n",
      "0     1\n",
      "1     4\n",
      "2    10\n",
      "3    20\n",
      "dtype: int64\n",
      "0      1\n",
      "1      3\n",
      "2     18\n",
      "3    180\n",
      "dtype: int64\n"
     ]
    }
   ],
   "source": [
    "s = pd.Series([1, 3, 6, 10])\n",
    "\n",
    "print(s.expanding().mean())\n",
    "print(s.cummax())\n",
    "print(s.cumsum())\n",
    "print(s.cumprod())"
   ]
  },
  {
   "cell_type": "markdown",
   "id": "ef5c26d6",
   "metadata": {},
   "source": [
    "# 三、 练习题"
   ]
  },
  {
   "cell_type": "markdown",
   "id": "3eebad8a",
   "metadata": {},
   "source": [
    "### Ex1：口袋妖怪数据集"
   ]
  },
  {
   "cell_type": "code",
   "execution_count": 16,
   "id": "88bac33b",
   "metadata": {},
   "outputs": [
    {
     "data": {
      "text/html": [
       "<div>\n",
       "<style scoped>\n",
       "    .dataframe tbody tr th:only-of-type {\n",
       "        vertical-align: middle;\n",
       "    }\n",
       "\n",
       "    .dataframe tbody tr th {\n",
       "        vertical-align: top;\n",
       "    }\n",
       "\n",
       "    .dataframe thead th {\n",
       "        text-align: right;\n",
       "    }\n",
       "</style>\n",
       "<table border=\"1\" class=\"dataframe\">\n",
       "  <thead>\n",
       "    <tr style=\"text-align: right;\">\n",
       "      <th></th>\n",
       "      <th>#</th>\n",
       "      <th>Name</th>\n",
       "      <th>Type 1</th>\n",
       "      <th>Type 2</th>\n",
       "      <th>Total</th>\n",
       "      <th>HP</th>\n",
       "      <th>Attack</th>\n",
       "      <th>Defense</th>\n",
       "      <th>Sp. Atk</th>\n",
       "      <th>Sp. Def</th>\n",
       "      <th>Speed</th>\n",
       "    </tr>\n",
       "  </thead>\n",
       "  <tbody>\n",
       "    <tr>\n",
       "      <th>0</th>\n",
       "      <td>1</td>\n",
       "      <td>Bulbasaur</td>\n",
       "      <td>Grass</td>\n",
       "      <td>Poison</td>\n",
       "      <td>318</td>\n",
       "      <td>45</td>\n",
       "      <td>49</td>\n",
       "      <td>49</td>\n",
       "      <td>65</td>\n",
       "      <td>65</td>\n",
       "      <td>45</td>\n",
       "    </tr>\n",
       "    <tr>\n",
       "      <th>1</th>\n",
       "      <td>2</td>\n",
       "      <td>Ivysaur</td>\n",
       "      <td>Grass</td>\n",
       "      <td>Poison</td>\n",
       "      <td>405</td>\n",
       "      <td>60</td>\n",
       "      <td>62</td>\n",
       "      <td>63</td>\n",
       "      <td>80</td>\n",
       "      <td>80</td>\n",
       "      <td>60</td>\n",
       "    </tr>\n",
       "    <tr>\n",
       "      <th>2</th>\n",
       "      <td>3</td>\n",
       "      <td>Venusaur</td>\n",
       "      <td>Grass</td>\n",
       "      <td>Poison</td>\n",
       "      <td>525</td>\n",
       "      <td>80</td>\n",
       "      <td>82</td>\n",
       "      <td>83</td>\n",
       "      <td>100</td>\n",
       "      <td>100</td>\n",
       "      <td>80</td>\n",
       "    </tr>\n",
       "  </tbody>\n",
       "</table>\n",
       "</div>"
      ],
      "text/plain": [
       "   #       Name Type 1  Type 2  Total  HP  Attack  Defense  Sp. Atk  Sp. Def  \\\n",
       "0  1  Bulbasaur  Grass  Poison    318  45      49       49       65       65   \n",
       "1  2    Ivysaur  Grass  Poison    405  60      62       63       80       80   \n",
       "2  3   Venusaur  Grass  Poison    525  80      82       83      100      100   \n",
       "\n",
       "   Speed  \n",
       "0     45  \n",
       "1     60  \n",
       "2     80  "
      ]
     },
     "execution_count": 16,
     "metadata": {},
     "output_type": "execute_result"
    }
   ],
   "source": [
    "df = pd.read_csv('../data/pokemon.csv')\n",
    "\n",
    "df.head(3)"
   ]
  },
  {
   "cell_type": "markdown",
   "id": "7efb3f9c",
   "metadata": {},
   "source": [
    "#### 1. 对 HP, Attack, Defense, Sp. Atk, Sp. Def, Speed 进行加总，验证是否为 Total 值。"
   ]
  },
  {
   "cell_type": "code",
   "execution_count": 29,
   "id": "c3a91389",
   "metadata": {},
   "outputs": [
    {
     "data": {
      "text/plain": [
       "0"
      ]
     },
     "execution_count": 29,
     "metadata": {},
     "output_type": "execute_result"
    }
   ],
   "source": [
    "(df[['HP','Attack','Defense','Sp. Atk','Sp. Def','Speed']].sum(axis = 1) != df['Total']).sum()"
   ]
  },
  {
   "cell_type": "markdown",
   "id": "753b600d",
   "metadata": {},
   "source": [
    "#### 2. 对于 # 重复的妖怪只保留第一条记录，解决以下问题："
   ]
  },
  {
   "cell_type": "code",
   "execution_count": 30,
   "id": "e9b7d658",
   "metadata": {},
   "outputs": [],
   "source": [
    "dp_drop_dup = df.drop_duplicates('#', keep='first')"
   ]
  },
  {
   "cell_type": "markdown",
   "id": "2f508af4",
   "metadata": {},
   "source": [
    "#### a. 求第一属性的种类数量和前三多数量对应的种类"
   ]
  },
  {
   "cell_type": "code",
   "execution_count": 32,
   "id": "e943054e",
   "metadata": {},
   "outputs": [
    {
     "data": {
      "text/plain": [
       "18"
      ]
     },
     "execution_count": 32,
     "metadata": {},
     "output_type": "execute_result"
    }
   ],
   "source": [
    "dp_drop_dup['Type 1'].nunique()"
   ]
  },
  {
   "cell_type": "code",
   "execution_count": 33,
   "id": "aed1574c",
   "metadata": {},
   "outputs": [
    {
     "data": {
      "text/plain": [
       "Index(['Water', 'Normal', 'Grass'], dtype='object')"
      ]
     },
     "execution_count": 33,
     "metadata": {},
     "output_type": "execute_result"
    }
   ],
   "source": [
    "dp_drop_dup['Type 1'].value_counts().index[:3]"
   ]
  },
  {
   "cell_type": "markdown",
   "id": "2644a620",
   "metadata": {},
   "source": [
    "#### b. 求第一属性和第二属性的组合种类"
   ]
  },
  {
   "cell_type": "code",
   "execution_count": 37,
   "id": "f79ff355",
   "metadata": {},
   "outputs": [
    {
     "data": {
      "text/plain": [
       "143"
      ]
     },
     "execution_count": 37,
     "metadata": {},
     "output_type": "execute_result"
    }
   ],
   "source": [
    "dp_drop_dup.drop_duplicates(['Type 1','Type 2']).shape[0]"
   ]
  },
  {
   "cell_type": "markdown",
   "id": "ac1a4e34",
   "metadata": {},
   "source": [
    "#### c. 求尚未出现过的属性组合"
   ]
  },
  {
   "cell_type": "code",
   "execution_count": 86,
   "id": "ee6c77e1",
   "metadata": {},
   "outputs": [],
   "source": [
    "from itertools import product\n",
    "type1 = df['Type 1'].unique()\n",
    "type2 = df['Type 2'].unique()\n",
    "all_ = set(product(*[type1,type2]))\n",
    "now_ = set(df[['Type 1','Type 2']].apply(lambda x: tuple(x), axis=1).values.tolist())"
   ]
  },
  {
   "cell_type": "code",
   "execution_count": 87,
   "id": "d5cf8605",
   "metadata": {},
   "outputs": [
    {
     "data": {
      "text/plain": [
       "188"
      ]
     },
     "execution_count": 87,
     "metadata": {},
     "output_type": "execute_result"
    }
   ],
   "source": [
    "len(all_.difference(now_))"
   ]
  },
  {
   "cell_type": "markdown",
   "id": "ac282cde",
   "metadata": {},
   "source": [
    "#### 3. 按照下述要求，构造 Series "
   ]
  },
  {
   "cell_type": "markdown",
   "id": "fff0ec90",
   "metadata": {},
   "source": [
    "#### a. 取出物攻，超过120的替换为 high ，不足50的替换为 low ，否则设为 mid"
   ]
  },
  {
   "cell_type": "code",
   "execution_count": 98,
   "id": "f5bfdfba",
   "metadata": {},
   "outputs": [
    {
     "data": {
      "text/plain": [
       "0       low\n",
       "1       mid\n",
       "2       mid\n",
       "3       mid\n",
       "4       mid\n",
       "       ... \n",
       "795     mid\n",
       "796    high\n",
       "797     mid\n",
       "798    high\n",
       "799     mid\n",
       "Name: Attack, Length: 800, dtype: object"
      ]
     },
     "execution_count": 98,
     "metadata": {},
     "output_type": "execute_result"
    }
   ],
   "source": [
    "df['Attack'].mask(df['Attack']>120,'high').mask(df['Attack']<50,'low').mask((df['Attack']<120) & (df['Attack']>50),'mid')"
   ]
  },
  {
   "cell_type": "markdown",
   "id": "b4d85d25",
   "metadata": {},
   "source": [
    "#### b. 取出第一属性，分别用 replace 和 apply 替换所有字母为大写"
   ]
  },
  {
   "cell_type": "code",
   "execution_count": 101,
   "id": "b45eea4e",
   "metadata": {},
   "outputs": [
    {
     "data": {
      "text/plain": [
       "0        GRASS\n",
       "1        GRASS\n",
       "2        GRASS\n",
       "3        GRASS\n",
       "4         FIRE\n",
       "        ...   \n",
       "795       ROCK\n",
       "796       ROCK\n",
       "797    PSYCHIC\n",
       "798    PSYCHIC\n",
       "799       FIRE\n",
       "Name: Type 1, Length: 800, dtype: object"
      ]
     },
     "execution_count": 101,
     "metadata": {},
     "output_type": "execute_result"
    }
   ],
   "source": [
    "df['Type 1'].replace({i:str.upper(i) for i in df['Type 1'].unique()})"
   ]
  },
  {
   "cell_type": "code",
   "execution_count": 105,
   "id": "db7c72c4",
   "metadata": {},
   "outputs": [
    {
     "data": {
      "text/plain": [
       "0        GRASS\n",
       "1        GRASS\n",
       "2        GRASS\n",
       "3        GRASS\n",
       "4         FIRE\n",
       "        ...   \n",
       "795       ROCK\n",
       "796       ROCK\n",
       "797    PSYCHIC\n",
       "798    PSYCHIC\n",
       "799       FIRE\n",
       "Name: Type 1, Length: 800, dtype: object"
      ]
     },
     "execution_count": 105,
     "metadata": {},
     "output_type": "execute_result"
    }
   ],
   "source": [
    "df['Type 1'].apply(lambda x:str.upper(x))"
   ]
  },
  {
   "cell_type": "markdown",
   "id": "1ec76644",
   "metadata": {},
   "source": [
    "#### c. 求每个妖怪六项能力的离差，即所有能力中偏离中位数最大的值，添加到 df 并从大到小排序"
   ]
  },
  {
   "cell_type": "code",
   "execution_count": 107,
   "id": "e812c8d8",
   "metadata": {},
   "outputs": [
    {
     "data": {
      "text/html": [
       "<div>\n",
       "<style scoped>\n",
       "    .dataframe tbody tr th:only-of-type {\n",
       "        vertical-align: middle;\n",
       "    }\n",
       "\n",
       "    .dataframe tbody tr th {\n",
       "        vertical-align: top;\n",
       "    }\n",
       "\n",
       "    .dataframe thead th {\n",
       "        text-align: right;\n",
       "    }\n",
       "</style>\n",
       "<table border=\"1\" class=\"dataframe\">\n",
       "  <thead>\n",
       "    <tr style=\"text-align: right;\">\n",
       "      <th></th>\n",
       "      <th>#</th>\n",
       "      <th>Name</th>\n",
       "      <th>Type 1</th>\n",
       "      <th>Type 2</th>\n",
       "      <th>Total</th>\n",
       "      <th>HP</th>\n",
       "      <th>Attack</th>\n",
       "      <th>Defense</th>\n",
       "      <th>Sp. Atk</th>\n",
       "      <th>Sp. Def</th>\n",
       "      <th>Speed</th>\n",
       "      <th>Deviation</th>\n",
       "    </tr>\n",
       "  </thead>\n",
       "  <tbody>\n",
       "    <tr>\n",
       "      <th>230</th>\n",
       "      <td>213</td>\n",
       "      <td>Shuckle</td>\n",
       "      <td>Bug</td>\n",
       "      <td>Rock</td>\n",
       "      <td>505</td>\n",
       "      <td>20</td>\n",
       "      <td>10</td>\n",
       "      <td>230</td>\n",
       "      <td>10</td>\n",
       "      <td>230</td>\n",
       "      <td>5</td>\n",
       "      <td>215.0</td>\n",
       "    </tr>\n",
       "    <tr>\n",
       "      <th>121</th>\n",
       "      <td>113</td>\n",
       "      <td>Chansey</td>\n",
       "      <td>Normal</td>\n",
       "      <td>NaN</td>\n",
       "      <td>450</td>\n",
       "      <td>250</td>\n",
       "      <td>5</td>\n",
       "      <td>5</td>\n",
       "      <td>35</td>\n",
       "      <td>105</td>\n",
       "      <td>50</td>\n",
       "      <td>207.5</td>\n",
       "    </tr>\n",
       "    <tr>\n",
       "      <th>261</th>\n",
       "      <td>242</td>\n",
       "      <td>Blissey</td>\n",
       "      <td>Normal</td>\n",
       "      <td>NaN</td>\n",
       "      <td>540</td>\n",
       "      <td>255</td>\n",
       "      <td>10</td>\n",
       "      <td>10</td>\n",
       "      <td>75</td>\n",
       "      <td>135</td>\n",
       "      <td>55</td>\n",
       "      <td>190.0</td>\n",
       "    </tr>\n",
       "    <tr>\n",
       "      <th>333</th>\n",
       "      <td>306</td>\n",
       "      <td>AggronMega Aggron</td>\n",
       "      <td>Steel</td>\n",
       "      <td>NaN</td>\n",
       "      <td>630</td>\n",
       "      <td>70</td>\n",
       "      <td>140</td>\n",
       "      <td>230</td>\n",
       "      <td>60</td>\n",
       "      <td>80</td>\n",
       "      <td>50</td>\n",
       "      <td>155.0</td>\n",
       "    </tr>\n",
       "    <tr>\n",
       "      <th>224</th>\n",
       "      <td>208</td>\n",
       "      <td>SteelixMega Steelix</td>\n",
       "      <td>Steel</td>\n",
       "      <td>Ground</td>\n",
       "      <td>610</td>\n",
       "      <td>75</td>\n",
       "      <td>125</td>\n",
       "      <td>230</td>\n",
       "      <td>55</td>\n",
       "      <td>95</td>\n",
       "      <td>30</td>\n",
       "      <td>145.0</td>\n",
       "    </tr>\n",
       "  </tbody>\n",
       "</table>\n",
       "</div>"
      ],
      "text/plain": [
       "       #                 Name  Type 1  Type 2  Total   HP  Attack  Defense  \\\n",
       "230  213              Shuckle     Bug    Rock    505   20      10      230   \n",
       "121  113              Chansey  Normal     NaN    450  250       5        5   \n",
       "261  242              Blissey  Normal     NaN    540  255      10       10   \n",
       "333  306    AggronMega Aggron   Steel     NaN    630   70     140      230   \n",
       "224  208  SteelixMega Steelix   Steel  Ground    610   75     125      230   \n",
       "\n",
       "     Sp. Atk  Sp. Def  Speed  Deviation  \n",
       "230       10      230      5      215.0  \n",
       "121       35      105     50      207.5  \n",
       "261       75      135     55      190.0  \n",
       "333       60       80     50      155.0  \n",
       "224       55       95     30      145.0  "
      ]
     },
     "execution_count": 107,
     "metadata": {},
     "output_type": "execute_result"
    }
   ],
   "source": [
    "import numpy as np\n",
    "df['Deviation'] = df[['HP', 'Attack', 'Defense', 'Sp. Atk',\n",
    "                     'Sp. Def', 'Speed']].apply(lambda x:np.max(\n",
    "                     (x-x.median()).abs()), 1)\n",
    "df.sort_values('Deviation', ascending=False).head()"
   ]
  },
  {
   "cell_type": "markdown",
   "id": "8f7c0306",
   "metadata": {},
   "source": [
    "### Ex2：指数加权窗口"
   ]
  },
  {
   "cell_type": "code",
   "execution_count": 112,
   "id": "e91a9248",
   "metadata": {},
   "outputs": [
    {
     "data": {
      "text/plain": [
       "0   -1.000000\n",
       "1   -1.000000\n",
       "2   -1.369004\n",
       "3   -1.552486\n",
       "4   -1.661767\n",
       "dtype: float64"
      ]
     },
     "execution_count": 112,
     "metadata": {},
     "output_type": "execute_result"
    }
   ],
   "source": [
    "np.random.seed(0)\n",
    "s = pd.Series(np.random.randint(-1,2,30).cumsum())\n",
    "s.ewm(alpha = 0.2).mean().head()"
   ]
  },
  {
   "cell_type": "code",
   "execution_count": 109,
   "id": "ac9c1340",
   "metadata": {},
   "outputs": [
    {
     "data": {
      "text/plain": [
       "0   -1.000000\n",
       "1   -1.000000\n",
       "2   -1.409836\n",
       "3   -1.609756\n",
       "4   -1.725845\n",
       "dtype: float64"
      ]
     },
     "execution_count": 109,
     "metadata": {},
     "output_type": "execute_result"
    }
   ],
   "source": [
    "def ewm_func(x, alpha=0.2):\n",
    "    win = (1-alpha)**np.arange(x.shape[0])[::-1]\n",
    "    res = (win*x).sum()/win.sum()\n",
    "    return res\n",
    "s.expanding().apply(ewm_func).head()"
   ]
  },
  {
   "cell_type": "code",
   "execution_count": null,
   "id": "24166c04",
   "metadata": {},
   "outputs": [],
   "source": []
  }
 ],
 "metadata": {
  "kernelspec": {
   "display_name": "Python 3 (ipykernel)",
   "language": "python",
   "name": "python3"
  },
  "language_info": {
   "codemirror_mode": {
    "name": "ipython",
    "version": 3
   },
   "file_extension": ".py",
   "mimetype": "text/x-python",
   "name": "python",
   "nbconvert_exporter": "python",
   "pygments_lexer": "ipython3",
   "version": "3.9.7"
  }
 },
 "nbformat": 4,
 "nbformat_minor": 5
}
