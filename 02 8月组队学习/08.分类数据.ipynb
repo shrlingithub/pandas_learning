{
 "cells": [
  {
   "cell_type": "markdown",
   "id": "4e56162b",
   "metadata": {},
   "source": [
    "# 分类数据"
   ]
  },
  {
   "cell_type": "code",
   "execution_count": 1,
   "id": "5a7f41ac",
   "metadata": {},
   "outputs": [],
   "source": [
    "import numpy as np\n",
    "import pandas as pd"
   ]
  },
  {
   "cell_type": "markdown",
   "id": "56b324e3",
   "metadata": {},
   "source": [
    "## cat对象"
   ]
  },
  {
   "cell_type": "markdown",
   "id": "0ca478df",
   "metadata": {},
   "source": [
    "### cat对象的属性\n",
    "    在 pandas 中提供了 category 类型，使用户能够处理分类类型的变量，将一个普通序列转换成分类变量可以使用 astype 方法。"
   ]
  },
  {
   "cell_type": "code",
   "execution_count": 2,
   "id": "ef00f054",
   "metadata": {},
   "outputs": [
    {
     "data": {
      "text/plain": [
       "0     Freshman\n",
       "1     Freshman\n",
       "2       Senior\n",
       "3    Sophomore\n",
       "4    Sophomore\n",
       "Name: Grade, dtype: category\n",
       "Categories (4, object): ['Freshman', 'Junior', 'Senior', 'Sophomore']"
      ]
     },
     "execution_count": 2,
     "metadata": {},
     "output_type": "execute_result"
    }
   ],
   "source": [
    "df = pd.read_csv('data/learn_pandas.csv',\n",
    "     usecols = ['Grade', 'Name', 'Gender', 'Height', 'Weight'])\n",
    "s = df.Grade.astype('category')\n",
    "\n",
    "s.head()"
   ]
  },
  {
   "cell_type": "markdown",
   "id": "02f7d51e",
   "metadata": {},
   "source": [
    "    在一个分类类型的 Series 中定义了 cat 对象，它和上一章中介绍的 str 对象类似，定义了一些属性和方法来进行分类类别的操作。"
   ]
  },
  {
   "cell_type": "code",
   "execution_count": 3,
   "id": "ac6b2b65",
   "metadata": {},
   "outputs": [
    {
     "data": {
      "text/plain": [
       "<pandas.core.arrays.categorical.CategoricalAccessor object at 0x0000021E00A87BB0>"
      ]
     },
     "execution_count": 3,
     "metadata": {},
     "output_type": "execute_result"
    }
   ],
   "source": [
    "s.cat"
   ]
  },
  {
   "cell_type": "markdown",
   "id": "fc73013a",
   "metadata": {},
   "source": [
    "    对于一个具体的分类，有两个组成部分，其一为类别的本身，它以 Index 类型存储，其二为是否有序，它们都可以通过 cat 的属性被访问"
   ]
  },
  {
   "cell_type": "code",
   "execution_count": 4,
   "id": "d2545f20",
   "metadata": {},
   "outputs": [
    {
     "data": {
      "text/plain": [
       "Index(['Freshman', 'Junior', 'Senior', 'Sophomore'], dtype='object')"
      ]
     },
     "execution_count": 4,
     "metadata": {},
     "output_type": "execute_result"
    }
   ],
   "source": [
    "s.cat.categories"
   ]
  },
  {
   "cell_type": "code",
   "execution_count": 5,
   "id": "e8a939b8",
   "metadata": {},
   "outputs": [
    {
     "data": {
      "text/plain": [
       "False"
      ]
     },
     "execution_count": 5,
     "metadata": {},
     "output_type": "execute_result"
    }
   ],
   "source": [
    "s.cat.ordered"
   ]
  },
  {
   "cell_type": "markdown",
   "id": "041931ed",
   "metadata": {},
   "source": [
    "    另外，每一个序列的类别会被赋予唯一的整数编号，它们的编号取决于 cat.categories 中的顺序，该属性可以通过 codes 访问"
   ]
  },
  {
   "cell_type": "code",
   "execution_count": 6,
   "id": "d6812429",
   "metadata": {},
   "outputs": [
    {
     "data": {
      "text/plain": [
       "0    0\n",
       "1    0\n",
       "2    2\n",
       "3    3\n",
       "4    3\n",
       "dtype: int8"
      ]
     },
     "execution_count": 6,
     "metadata": {},
     "output_type": "execute_result"
    }
   ],
   "source": [
    "s.cat.codes.head()"
   ]
  },
  {
   "cell_type": "markdown",
   "id": "b828acf3",
   "metadata": {},
   "source": [
    "### 类别的增加、删除和修改"
   ]
  },
  {
   "cell_type": "markdown",
   "id": "1f1215be",
   "metadata": {},
   "source": [
    "###### 增加\n",
    "    对于类别的增加可以使用 add_categories"
   ]
  },
  {
   "cell_type": "code",
   "execution_count": 7,
   "id": "a83ef568",
   "metadata": {},
   "outputs": [
    {
     "data": {
      "text/plain": [
       "Index(['Freshman', 'Junior', 'Senior', 'Sophomore', 'Graduate'], dtype='object')"
      ]
     },
     "execution_count": 7,
     "metadata": {},
     "output_type": "execute_result"
    }
   ],
   "source": [
    "s = s.cat.add_categories('Graduate') # 增加一个毕业生类别\n",
    "s.cat.categories"
   ]
  },
  {
   "cell_type": "markdown",
   "id": "5d30a70f",
   "metadata": {},
   "source": [
    "###### 删除\n",
    "    若要删除某一个类别可以使用 remove_categories ，同时所有原来序列中的该类会被设置为缺失"
   ]
  },
  {
   "cell_type": "code",
   "execution_count": 8,
   "id": "8737e7e7",
   "metadata": {},
   "outputs": [
    {
     "data": {
      "text/plain": [
       "Index(['Junior', 'Senior', 'Sophomore', 'Graduate'], dtype='object')"
      ]
     },
     "execution_count": 8,
     "metadata": {},
     "output_type": "execute_result"
    }
   ],
   "source": [
    "s = s.cat.remove_categories('Freshman')\n",
    "s.cat.categories"
   ]
  },
  {
   "cell_type": "code",
   "execution_count": 9,
   "id": "180fbcbb",
   "metadata": {},
   "outputs": [
    {
     "data": {
      "text/plain": [
       "0          NaN\n",
       "1          NaN\n",
       "2       Senior\n",
       "3    Sophomore\n",
       "4    Sophomore\n",
       "Name: Grade, dtype: category\n",
       "Categories (4, object): ['Junior', 'Senior', 'Sophomore', 'Graduate']"
      ]
     },
     "execution_count": 9,
     "metadata": {},
     "output_type": "execute_result"
    }
   ],
   "source": [
    "s.head()"
   ]
  },
  {
   "cell_type": "markdown",
   "id": "9d6adad6",
   "metadata": {},
   "source": [
    "###### 增加与删除\n",
    "    可以使用 set_categories 直接设置序列的新类别，原来的类别中如果存在元素不属于新类别，那么会被设置为缺失。"
   ]
  },
  {
   "cell_type": "code",
   "execution_count": 10,
   "id": "00b6622c",
   "metadata": {},
   "outputs": [
    {
     "data": {
      "text/plain": [
       "Index(['Sophomore', 'PhD'], dtype='object')"
      ]
     },
     "execution_count": 10,
     "metadata": {},
     "output_type": "execute_result"
    }
   ],
   "source": [
    "s = s.cat.set_categories(['Sophomore','PhD']) # 新类别为大二学生和博士\n",
    "s.cat.categories"
   ]
  },
  {
   "cell_type": "code",
   "execution_count": 11,
   "id": "5de6e2d6",
   "metadata": {},
   "outputs": [
    {
     "data": {
      "text/plain": [
       "0          NaN\n",
       "1          NaN\n",
       "2          NaN\n",
       "3    Sophomore\n",
       "4    Sophomore\n",
       "Name: Grade, dtype: category\n",
       "Categories (2, object): ['Sophomore', 'PhD']"
      ]
     },
     "execution_count": 11,
     "metadata": {},
     "output_type": "execute_result"
    }
   ],
   "source": [
    "s.head()"
   ]
  },
  {
   "cell_type": "markdown",
   "id": "8a52562f",
   "metadata": {},
   "source": [
    "###### 删除\n",
    "    如果想要删除未出现在序列中的类别，可以使用 remove_unused_categories 来实现"
   ]
  },
  {
   "cell_type": "code",
   "execution_count": 12,
   "id": "92cc7349",
   "metadata": {},
   "outputs": [
    {
     "data": {
      "text/plain": [
       "Index(['Sophomore'], dtype='object')"
      ]
     },
     "execution_count": 12,
     "metadata": {},
     "output_type": "execute_result"
    }
   ],
   "source": [
    "s = s.cat.remove_unused_categories() # 移除了未出现的博士生类别\n",
    "\n",
    "s.cat.categories"
   ]
  },
  {
   "cell_type": "markdown",
   "id": "ce62b0bf",
   "metadata": {},
   "source": [
    "###### 修改\n",
    "    修改的操作可以通过 rename_categories 方法完成，同时需要注意的是，这个方法会对原序列的对应值也进行相应修改"
   ]
  },
  {
   "cell_type": "code",
   "execution_count": 13,
   "id": "f0e11e93",
   "metadata": {},
   "outputs": [
    {
     "data": {
      "text/plain": [
       "0        NaN\n",
       "1        NaN\n",
       "2        NaN\n",
       "3    本科二年级学生\n",
       "4    本科二年级学生\n",
       "Name: Grade, dtype: category\n",
       "Categories (1, object): ['本科二年级学生']"
      ]
     },
     "execution_count": 13,
     "metadata": {},
     "output_type": "execute_result"
    }
   ],
   "source": [
    "s = s.cat.rename_categories({'Sophomore':'本科二年级学生'})\n",
    "s.head()"
   ]
  },
  {
   "cell_type": "markdown",
   "id": "cf02be46",
   "metadata": {},
   "source": [
    "## 有序分类"
   ]
  },
  {
   "cell_type": "markdown",
   "id": "2b60a4ea",
   "metadata": {},
   "source": [
    "### 序的建立\n",
    "    有序类别和无序类别可以通过 as_unordered 和 reorder_categories 互相转化。\n",
    "    后者传入的参数必须是由当前序列的无序类别构成的列表，不能够增加新的类别，也不能缺少原来的类别，并且必须指定参数 ordered=True ，否则方法无效。"
   ]
  },
  {
   "cell_type": "code",
   "execution_count": 14,
   "id": "d25d6618",
   "metadata": {},
   "outputs": [
    {
     "name": "stdout",
     "output_type": "stream",
     "text": [
      "0     Freshman\n",
      "1     Freshman\n",
      "2       Senior\n",
      "3    Sophomore\n",
      "4    Sophomore\n",
      "Name: Grade, dtype: category\n",
      "Categories (4, object): ['Freshman', 'Junior', 'Senior', 'Sophomore'] \n",
      "\n"
     ]
    },
    {
     "data": {
      "text/plain": [
       "0     Freshman\n",
       "1     Freshman\n",
       "2       Senior\n",
       "3    Sophomore\n",
       "4    Sophomore\n",
       "Name: Grade, dtype: category\n",
       "Categories (4, object): ['Freshman' < 'Sophomore' < 'Junior' < 'Senior']"
      ]
     },
     "execution_count": 14,
     "metadata": {},
     "output_type": "execute_result"
    }
   ],
   "source": [
    "s = df.Grade.astype('category')\n",
    "print(s.head(),'\\n')\n",
    "s = s.cat.reorder_categories(['Freshman', 'Sophomore','Junior', 'Senior'],ordered=True)\n",
    "s.head()"
   ]
  },
  {
   "cell_type": "code",
   "execution_count": 15,
   "id": "0c7a181f",
   "metadata": {},
   "outputs": [
    {
     "data": {
      "text/plain": [
       "0     Freshman\n",
       "1     Freshman\n",
       "2       Senior\n",
       "3    Sophomore\n",
       "4    Sophomore\n",
       "Name: Grade, dtype: category\n",
       "Categories (4, object): ['Freshman', 'Sophomore', 'Junior', 'Senior']"
      ]
     },
     "execution_count": 15,
     "metadata": {},
     "output_type": "execute_result"
    }
   ],
   "source": [
    "s.cat.as_unordered().head()"
   ]
  },
  {
   "cell_type": "markdown",
   "id": "21577004",
   "metadata": {},
   "source": [
    "### 排序和比较\n",
    "    分类变量的排序：只需把列的类型修改为 category 后，再赋予相应的大小关系，就能正常地使用 sort_index 和 sort_values\n",
    "    \n",
    "    分类变量的比较操作分为两类:\n",
    "        第一种是 == 或 != 关系的比较，比较的对象可以是标量或者同长度的 Series （或 list ）\n",
    "        第二种是 >,>=,<,<= 四类大小关系的比较，比较的对象和第一种类似，但是所有参与比较的元素必须属于原序列的 categories ，同时要和原序列具有相同的索引"
   ]
  },
  {
   "cell_type": "code",
   "execution_count": 18,
   "id": "15115813",
   "metadata": {},
   "outputs": [
    {
     "data": {
      "text/plain": [
       "0    False\n",
       "1    False\n",
       "2    False\n",
       "3     True\n",
       "4     True\n",
       "Name: Grade, dtype: bool"
      ]
     },
     "execution_count": 18,
     "metadata": {},
     "output_type": "execute_result"
    }
   ],
   "source": [
    "(df.Grade == 'Sophomore').head()"
   ]
  },
  {
   "cell_type": "code",
   "execution_count": 19,
   "id": "7aa9287c",
   "metadata": {},
   "outputs": [
    {
     "data": {
      "text/plain": [
       "0    False\n",
       "1    False\n",
       "2    False\n",
       "3    False\n",
       "4    False\n",
       "Name: Grade, dtype: bool"
      ]
     },
     "execution_count": 19,
     "metadata": {},
     "output_type": "execute_result"
    }
   ],
   "source": [
    "(df.Grade == ['PhD']*df.shape[0]).head()"
   ]
  },
  {
   "cell_type": "code",
   "execution_count": 20,
   "id": "305e03a1",
   "metadata": {},
   "outputs": [
    {
     "data": {
      "text/plain": [
       "0    True\n",
       "1    True\n",
       "2    True\n",
       "3    True\n",
       "4    True\n",
       "Name: Grade, dtype: bool"
      ]
     },
     "execution_count": 20,
     "metadata": {},
     "output_type": "execute_result"
    }
   ],
   "source": [
    "(df.Grade <= 'Sophomore').head()"
   ]
  },
  {
   "cell_type": "markdown",
   "id": "46757e6e",
   "metadata": {},
   "source": [
    "## 区间类别"
   ]
  },
  {
   "cell_type": "markdown",
   "id": "69570dc7",
   "metadata": {},
   "source": [
    "### 利用cut和qcut进行区间构造\n",
    "    区间序列往往是通过 cut 和 qcut 方法进行构造的。\n",
    "    \n",
    "    最重要的参数是 bins ，如果传入整数 n："
   ]
  },
  {
   "cell_type": "code",
   "execution_count": 21,
   "id": "5e0016c9",
   "metadata": {},
   "outputs": [
    {
     "data": {
      "text/plain": [
       "0    (0.999, 1.5]\n",
       "1      (1.5, 2.0]\n",
       "dtype: category\n",
       "Categories (2, interval[float64, right]): [(0.999, 1.5] < (1.5, 2.0]]"
      ]
     },
     "execution_count": 21,
     "metadata": {},
     "output_type": "execute_result"
    }
   ],
   "source": [
    "s = pd.Series([1,2])\n",
    "pd.cut(s, bins=2)"
   ]
  },
  {
   "cell_type": "code",
   "execution_count": 22,
   "id": "b1a5eb49",
   "metadata": {},
   "outputs": [
    {
     "data": {
      "text/plain": [
       "0      [1.0, 1.5)\n",
       "1    [1.5, 2.001)\n",
       "dtype: category\n",
       "Categories (2, interval[float64, left]): [[1.0, 1.5) < [1.5, 2.001)]"
      ]
     },
     "execution_count": 22,
     "metadata": {},
     "output_type": "execute_result"
    }
   ],
   "source": [
    "pd.cut(s, bins=2, right=False)"
   ]
  },
  {
   "cell_type": "markdown",
   "id": "3992cac6",
   "metadata": {},
   "source": [
    "    bins 的另一个常见用法是指定区间分割点的列表"
   ]
  },
  {
   "cell_type": "code",
   "execution_count": 23,
   "id": "42d3d37a",
   "metadata": {},
   "outputs": [
    {
     "data": {
      "text/plain": [
       "0    (-inf, 1.2]\n",
       "1     (1.8, 2.2]\n",
       "dtype: category\n",
       "Categories (4, interval[float64, right]): [(-inf, 1.2] < (1.2, 1.8] < (1.8, 2.2] < (2.2, inf]]"
      ]
     },
     "execution_count": 23,
     "metadata": {},
     "output_type": "execute_result"
    }
   ],
   "source": [
    "pd.cut(s, bins=[-np.infty, 1.2, 1.8, 2.2, np.infty])"
   ]
  },
  {
   "cell_type": "markdown",
   "id": "ed22c916",
   "metadata": {},
   "source": [
    "    另外两个常用参数为 labels 和 retbins ，分别代表了区间的名字和是否返回分割点（默认不返回）"
   ]
  },
  {
   "cell_type": "code",
   "execution_count": 24,
   "id": "1bccdb28",
   "metadata": {},
   "outputs": [
    {
     "data": {
      "text/plain": [
       "0    small\n",
       "1      big\n",
       "dtype: category\n",
       "Categories (2, object): ['small' < 'big']"
      ]
     },
     "execution_count": 24,
     "metadata": {},
     "output_type": "execute_result"
    }
   ],
   "source": [
    "s = pd.Series([1,2])\n",
    "res = pd.cut(s, bins=2, labels=['small', 'big'], retbins=True)\n",
    "res[0]"
   ]
  },
  {
   "cell_type": "markdown",
   "id": "1bbf023c",
   "metadata": {},
   "source": [
    "    从用法上来说， qcut 和 cut 几乎没有差别，只是把 bins 参数变成的 q 参数， qcut 中的 q 是指 quantile 。这里的 q 为整数 n 时，指按照 n 等分位数把数据分箱，还可以传入浮点列表指代相应的分位数分割点。"
   ]
  },
  {
   "cell_type": "code",
   "execution_count": 27,
   "id": "876a68cc",
   "metadata": {},
   "outputs": [
    {
     "name": "stdout",
     "output_type": "stream",
     "text": [
      "0    (33.999, 48.0]\n",
      "1      (55.0, 89.0]\n",
      "2      (55.0, 89.0]\n",
      "3    (33.999, 48.0]\n",
      "4      (55.0, 89.0]\n",
      "Name: Weight, dtype: category\n",
      "Categories (3, interval[float64, right]): [(33.999, 48.0] < (48.0, 55.0] < (55.0, 89.0]] \n",
      "\n",
      "\n",
      "0      (44.0, 69.4]\n",
      "1      (69.4, 89.0]\n",
      "2      (69.4, 89.0]\n",
      "3    (33.999, 44.0]\n",
      "4      (69.4, 89.0]\n",
      "Name: Weight, dtype: category\n",
      "Categories (3, interval[float64, right]): [(33.999, 44.0] < (44.0, 69.4] < (69.4, 89.0]]\n"
     ]
    }
   ],
   "source": [
    "s = df.Weight\n",
    "print(pd.qcut(s, q=3).head(),'\\n\\n')\n",
    "print(pd.qcut(s, q=[0,0.2,0.8,1]).head())"
   ]
  },
  {
   "cell_type": "markdown",
   "id": "1eac8717",
   "metadata": {},
   "source": [
    "### 一般区间的构造\n",
    "    对于某一个具体的区间而言，其具备三个要素，即左端点、右端点和端点的开闭状态，其中开闭状态可以指定 right, left, both, neither 中的一类\n",
    "    其属性包含了 mid, length, right, left, closed ，分别表示中点、长度、右端点、左端点和开闭状态。"
   ]
  },
  {
   "cell_type": "code",
   "execution_count": 28,
   "id": "07000a0e",
   "metadata": {},
   "outputs": [
    {
     "data": {
      "text/plain": [
       "Interval(0, 1, closed='right')"
      ]
     },
     "execution_count": 28,
     "metadata": {},
     "output_type": "execute_result"
    }
   ],
   "source": [
    "my_interval = pd.Interval(0, 1, 'right')\n",
    "my_interval"
   ]
  },
  {
   "cell_type": "code",
   "execution_count": 30,
   "id": "9fb4e893",
   "metadata": {},
   "outputs": [
    {
     "name": "stdout",
     "output_type": "stream",
     "text": [
      "0.5\n",
      "1\n",
      "1\n",
      "0\n",
      "right\n"
     ]
    }
   ],
   "source": [
    "print(my_interval.mid)\n",
    "print(my_interval.length)\n",
    "print(my_interval.right)\n",
    "print(my_interval.left)\n",
    "print(my_interval.closed)"
   ]
  },
  {
   "cell_type": "markdown",
   "id": "a95db1c8",
   "metadata": {},
   "source": [
    "    使用 in 可以判断元素是否属于区间"
   ]
  },
  {
   "cell_type": "code",
   "execution_count": 31,
   "id": "ee3da3d1",
   "metadata": {},
   "outputs": [
    {
     "data": {
      "text/plain": [
       "True"
      ]
     },
     "execution_count": 31,
     "metadata": {},
     "output_type": "execute_result"
    }
   ],
   "source": [
    "0.5 in my_interval"
   ]
  },
  {
   "cell_type": "markdown",
   "id": "b911cbc5",
   "metadata": {},
   "source": [
    "    使用 overlaps 可以判断两个区间是否有交集"
   ]
  },
  {
   "cell_type": "code",
   "execution_count": 33,
   "id": "95a6f4ae",
   "metadata": {},
   "outputs": [
    {
     "data": {
      "text/plain": [
       "True"
      ]
     },
     "execution_count": 33,
     "metadata": {},
     "output_type": "execute_result"
    }
   ],
   "source": [
    "my_interval_2 = pd.Interval(0.5, 1.5, 'left')\n",
    "my_interval.overlaps(my_interval_2)"
   ]
  },
  {
   "cell_type": "code",
   "execution_count": null,
   "id": "cb55e68c",
   "metadata": {},
   "outputs": [],
   "source": []
  }
 ],
 "metadata": {
  "kernelspec": {
   "display_name": "Python 3 (ipykernel)",
   "language": "python",
   "name": "python3"
  },
  "language_info": {
   "codemirror_mode": {
    "name": "ipython",
    "version": 3
   },
   "file_extension": ".py",
   "mimetype": "text/x-python",
   "name": "python",
   "nbconvert_exporter": "python",
   "pygments_lexer": "ipython3",
   "version": "3.9.12"
  },
  "toc": {
   "base_numbering": 1,
   "nav_menu": {},
   "number_sections": true,
   "sideBar": true,
   "skip_h1_title": true,
   "title_cell": "Table of Contents",
   "title_sidebar": "Contents",
   "toc_cell": false,
   "toc_position": {
    "height": "calc(100% - 180px)",
    "left": "10px",
    "top": "150px",
    "width": "279.273px"
   },
   "toc_section_display": true,
   "toc_window_display": true
  },
  "varInspector": {
   "cols": {
    "lenName": 16,
    "lenType": 16,
    "lenVar": 40
   },
   "kernels_config": {
    "python": {
     "delete_cmd_postfix": "",
     "delete_cmd_prefix": "del ",
     "library": "var_list.py",
     "varRefreshCmd": "print(var_dic_list())"
    },
    "r": {
     "delete_cmd_postfix": ") ",
     "delete_cmd_prefix": "rm(",
     "library": "var_list.r",
     "varRefreshCmd": "cat(var_dic_list()) "
    }
   },
   "types_to_exclude": [
    "module",
    "function",
    "builtin_function_or_method",
    "instance",
    "_Feature"
   ],
   "window_display": false
  }
 },
 "nbformat": 4,
 "nbformat_minor": 5
}
