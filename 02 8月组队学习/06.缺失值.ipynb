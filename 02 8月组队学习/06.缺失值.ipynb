{
 "cells": [
  {
   "cell_type": "markdown",
   "id": "4e72b8bc",
   "metadata": {},
   "source": [
    "# 缺失数据"
   ]
  },
  {
   "cell_type": "code",
   "execution_count": 1,
   "id": "17bbedd1",
   "metadata": {},
   "outputs": [],
   "source": [
    "import numpy as np\n",
    "import pandas as pd"
   ]
  },
  {
   "cell_type": "markdown",
   "id": "ffc3425e",
   "metadata": {},
   "source": [
    "## 缺失值的统计和删除"
   ]
  },
  {
   "cell_type": "markdown",
   "id": "017a2595",
   "metadata": {},
   "source": [
    "### 缺失信息的统计\n",
    "    缺失数据可以使用 isna 或 isnull （两个函数没有区别）来查看每个单元格是否缺失，结合 mean 可以计算出每列缺失值的比例"
   ]
  },
  {
   "cell_type": "code",
   "execution_count": 2,
   "id": "c729d4df",
   "metadata": {},
   "outputs": [
    {
     "data": {
      "text/html": [
       "<div>\n",
       "<style scoped>\n",
       "    .dataframe tbody tr th:only-of-type {\n",
       "        vertical-align: middle;\n",
       "    }\n",
       "\n",
       "    .dataframe tbody tr th {\n",
       "        vertical-align: top;\n",
       "    }\n",
       "\n",
       "    .dataframe thead th {\n",
       "        text-align: right;\n",
       "    }\n",
       "</style>\n",
       "<table border=\"1\" class=\"dataframe\">\n",
       "  <thead>\n",
       "    <tr style=\"text-align: right;\">\n",
       "      <th></th>\n",
       "      <th>Grade</th>\n",
       "      <th>Name</th>\n",
       "      <th>Gender</th>\n",
       "      <th>Height</th>\n",
       "      <th>Weight</th>\n",
       "      <th>Transfer</th>\n",
       "    </tr>\n",
       "  </thead>\n",
       "  <tbody>\n",
       "    <tr>\n",
       "      <th>0</th>\n",
       "      <td>False</td>\n",
       "      <td>False</td>\n",
       "      <td>False</td>\n",
       "      <td>False</td>\n",
       "      <td>False</td>\n",
       "      <td>False</td>\n",
       "    </tr>\n",
       "    <tr>\n",
       "      <th>1</th>\n",
       "      <td>False</td>\n",
       "      <td>False</td>\n",
       "      <td>False</td>\n",
       "      <td>False</td>\n",
       "      <td>False</td>\n",
       "      <td>False</td>\n",
       "    </tr>\n",
       "    <tr>\n",
       "      <th>2</th>\n",
       "      <td>False</td>\n",
       "      <td>False</td>\n",
       "      <td>False</td>\n",
       "      <td>False</td>\n",
       "      <td>False</td>\n",
       "      <td>False</td>\n",
       "    </tr>\n",
       "    <tr>\n",
       "      <th>3</th>\n",
       "      <td>False</td>\n",
       "      <td>False</td>\n",
       "      <td>False</td>\n",
       "      <td>True</td>\n",
       "      <td>False</td>\n",
       "      <td>False</td>\n",
       "    </tr>\n",
       "    <tr>\n",
       "      <th>4</th>\n",
       "      <td>False</td>\n",
       "      <td>False</td>\n",
       "      <td>False</td>\n",
       "      <td>False</td>\n",
       "      <td>False</td>\n",
       "      <td>False</td>\n",
       "    </tr>\n",
       "  </tbody>\n",
       "</table>\n",
       "</div>"
      ],
      "text/plain": [
       "   Grade   Name  Gender  Height  Weight  Transfer\n",
       "0  False  False   False   False   False     False\n",
       "1  False  False   False   False   False     False\n",
       "2  False  False   False   False   False     False\n",
       "3  False  False   False    True   False     False\n",
       "4  False  False   False   False   False     False"
      ]
     },
     "execution_count": 2,
     "metadata": {},
     "output_type": "execute_result"
    }
   ],
   "source": [
    "df = pd.read_csv('data/learn_pandas.csv',\n",
    "                 usecols = ['Grade', 'Name', 'Gender', 'Height',\n",
    "                            'Weight', 'Transfer'])\n",
    "df.isna().head()"
   ]
  },
  {
   "cell_type": "code",
   "execution_count": 3,
   "id": "0c5bf289",
   "metadata": {},
   "outputs": [
    {
     "data": {
      "text/html": [
       "<div>\n",
       "<style scoped>\n",
       "    .dataframe tbody tr th:only-of-type {\n",
       "        vertical-align: middle;\n",
       "    }\n",
       "\n",
       "    .dataframe tbody tr th {\n",
       "        vertical-align: top;\n",
       "    }\n",
       "\n",
       "    .dataframe thead th {\n",
       "        text-align: right;\n",
       "    }\n",
       "</style>\n",
       "<table border=\"1\" class=\"dataframe\">\n",
       "  <thead>\n",
       "    <tr style=\"text-align: right;\">\n",
       "      <th></th>\n",
       "      <th>Grade</th>\n",
       "      <th>Name</th>\n",
       "      <th>Gender</th>\n",
       "      <th>Height</th>\n",
       "      <th>Weight</th>\n",
       "      <th>Transfer</th>\n",
       "    </tr>\n",
       "  </thead>\n",
       "  <tbody>\n",
       "    <tr>\n",
       "      <th>0</th>\n",
       "      <td>False</td>\n",
       "      <td>False</td>\n",
       "      <td>False</td>\n",
       "      <td>False</td>\n",
       "      <td>False</td>\n",
       "      <td>False</td>\n",
       "    </tr>\n",
       "    <tr>\n",
       "      <th>1</th>\n",
       "      <td>False</td>\n",
       "      <td>False</td>\n",
       "      <td>False</td>\n",
       "      <td>False</td>\n",
       "      <td>False</td>\n",
       "      <td>False</td>\n",
       "    </tr>\n",
       "    <tr>\n",
       "      <th>2</th>\n",
       "      <td>False</td>\n",
       "      <td>False</td>\n",
       "      <td>False</td>\n",
       "      <td>False</td>\n",
       "      <td>False</td>\n",
       "      <td>False</td>\n",
       "    </tr>\n",
       "    <tr>\n",
       "      <th>3</th>\n",
       "      <td>False</td>\n",
       "      <td>False</td>\n",
       "      <td>False</td>\n",
       "      <td>True</td>\n",
       "      <td>False</td>\n",
       "      <td>False</td>\n",
       "    </tr>\n",
       "    <tr>\n",
       "      <th>4</th>\n",
       "      <td>False</td>\n",
       "      <td>False</td>\n",
       "      <td>False</td>\n",
       "      <td>False</td>\n",
       "      <td>False</td>\n",
       "      <td>False</td>\n",
       "    </tr>\n",
       "  </tbody>\n",
       "</table>\n",
       "</div>"
      ],
      "text/plain": [
       "   Grade   Name  Gender  Height  Weight  Transfer\n",
       "0  False  False   False   False   False     False\n",
       "1  False  False   False   False   False     False\n",
       "2  False  False   False   False   False     False\n",
       "3  False  False   False    True   False     False\n",
       "4  False  False   False   False   False     False"
      ]
     },
     "execution_count": 3,
     "metadata": {},
     "output_type": "execute_result"
    }
   ],
   "source": [
    "df.isnull().head()"
   ]
  },
  {
   "cell_type": "markdown",
   "id": "be19d86d",
   "metadata": {},
   "source": [
    "    如果想要查看某一列缺失或者非缺失的行，可以利用 Series 上的 isna 或者 notna 进行布尔索引"
   ]
  },
  {
   "cell_type": "code",
   "execution_count": 6,
   "id": "4759fd1f",
   "metadata": {},
   "outputs": [
    {
     "data": {
      "text/html": [
       "<div>\n",
       "<style scoped>\n",
       "    .dataframe tbody tr th:only-of-type {\n",
       "        vertical-align: middle;\n",
       "    }\n",
       "\n",
       "    .dataframe tbody tr th {\n",
       "        vertical-align: top;\n",
       "    }\n",
       "\n",
       "    .dataframe thead th {\n",
       "        text-align: right;\n",
       "    }\n",
       "</style>\n",
       "<table border=\"1\" class=\"dataframe\">\n",
       "  <thead>\n",
       "    <tr style=\"text-align: right;\">\n",
       "      <th></th>\n",
       "      <th>Grade</th>\n",
       "      <th>Name</th>\n",
       "      <th>Gender</th>\n",
       "      <th>Height</th>\n",
       "      <th>Weight</th>\n",
       "      <th>Transfer</th>\n",
       "    </tr>\n",
       "  </thead>\n",
       "  <tbody>\n",
       "    <tr>\n",
       "      <th>3</th>\n",
       "      <td>Sophomore</td>\n",
       "      <td>Xiaojuan Sun</td>\n",
       "      <td>Female</td>\n",
       "      <td>NaN</td>\n",
       "      <td>41.0</td>\n",
       "      <td>N</td>\n",
       "    </tr>\n",
       "    <tr>\n",
       "      <th>12</th>\n",
       "      <td>Senior</td>\n",
       "      <td>Peng You</td>\n",
       "      <td>Female</td>\n",
       "      <td>NaN</td>\n",
       "      <td>48.0</td>\n",
       "      <td>NaN</td>\n",
       "    </tr>\n",
       "    <tr>\n",
       "      <th>26</th>\n",
       "      <td>Junior</td>\n",
       "      <td>Yanli You</td>\n",
       "      <td>Female</td>\n",
       "      <td>NaN</td>\n",
       "      <td>48.0</td>\n",
       "      <td>N</td>\n",
       "    </tr>\n",
       "    <tr>\n",
       "      <th>36</th>\n",
       "      <td>Freshman</td>\n",
       "      <td>Xiaojuan Qin</td>\n",
       "      <td>Male</td>\n",
       "      <td>NaN</td>\n",
       "      <td>79.0</td>\n",
       "      <td>Y</td>\n",
       "    </tr>\n",
       "    <tr>\n",
       "      <th>60</th>\n",
       "      <td>Freshman</td>\n",
       "      <td>Yanpeng Lv</td>\n",
       "      <td>Male</td>\n",
       "      <td>NaN</td>\n",
       "      <td>65.0</td>\n",
       "      <td>N</td>\n",
       "    </tr>\n",
       "  </tbody>\n",
       "</table>\n",
       "</div>"
      ],
      "text/plain": [
       "        Grade          Name  Gender  Height  Weight Transfer\n",
       "3   Sophomore  Xiaojuan Sun  Female     NaN    41.0        N\n",
       "12     Senior      Peng You  Female     NaN    48.0      NaN\n",
       "26     Junior     Yanli You  Female     NaN    48.0        N\n",
       "36   Freshman  Xiaojuan Qin    Male     NaN    79.0        Y\n",
       "60   Freshman    Yanpeng Lv    Male     NaN    65.0        N"
      ]
     },
     "execution_count": 6,
     "metadata": {},
     "output_type": "execute_result"
    }
   ],
   "source": [
    "# 例如，查看身高缺失的行\n",
    "df[df.Height.isna()].head()"
   ]
  },
  {
   "cell_type": "markdown",
   "id": "6aa91b30",
   "metadata": {},
   "source": [
    "    如果想要同时对几个列，检索出全部为缺失或者至少有一个缺失或者没有缺失的行，可以使用 isna, notna 和 any, all 的组合"
   ]
  },
  {
   "cell_type": "code",
   "execution_count": 8,
   "id": "2d98aee7",
   "metadata": {},
   "outputs": [
    {
     "data": {
      "text/html": [
       "<div>\n",
       "<style scoped>\n",
       "    .dataframe tbody tr th:only-of-type {\n",
       "        vertical-align: middle;\n",
       "    }\n",
       "\n",
       "    .dataframe tbody tr th {\n",
       "        vertical-align: top;\n",
       "    }\n",
       "\n",
       "    .dataframe thead th {\n",
       "        text-align: right;\n",
       "    }\n",
       "</style>\n",
       "<table border=\"1\" class=\"dataframe\">\n",
       "  <thead>\n",
       "    <tr style=\"text-align: right;\">\n",
       "      <th></th>\n",
       "      <th>Grade</th>\n",
       "      <th>Name</th>\n",
       "      <th>Gender</th>\n",
       "      <th>Height</th>\n",
       "      <th>Weight</th>\n",
       "      <th>Transfer</th>\n",
       "    </tr>\n",
       "  </thead>\n",
       "  <tbody>\n",
       "    <tr>\n",
       "      <th>102</th>\n",
       "      <td>Junior</td>\n",
       "      <td>Chengli Zhao</td>\n",
       "      <td>Male</td>\n",
       "      <td>NaN</td>\n",
       "      <td>NaN</td>\n",
       "      <td>NaN</td>\n",
       "    </tr>\n",
       "  </tbody>\n",
       "</table>\n",
       "</div>"
      ],
      "text/plain": [
       "      Grade          Name Gender  Height  Weight Transfer\n",
       "102  Junior  Chengli Zhao   Male     NaN     NaN      NaN"
      ]
     },
     "execution_count": 8,
     "metadata": {},
     "output_type": "execute_result"
    }
   ],
   "source": [
    "# 对身高、体重和转系情况这3列分别进行这三种情况的检索\n",
    "df[df[['Height', 'Weight', 'Transfer']].isna().all(1)] # 全部缺失"
   ]
  },
  {
   "cell_type": "code",
   "execution_count": 9,
   "id": "63e66e22",
   "metadata": {},
   "outputs": [
    {
     "data": {
      "text/html": [
       "<div>\n",
       "<style scoped>\n",
       "    .dataframe tbody tr th:only-of-type {\n",
       "        vertical-align: middle;\n",
       "    }\n",
       "\n",
       "    .dataframe tbody tr th {\n",
       "        vertical-align: top;\n",
       "    }\n",
       "\n",
       "    .dataframe thead th {\n",
       "        text-align: right;\n",
       "    }\n",
       "</style>\n",
       "<table border=\"1\" class=\"dataframe\">\n",
       "  <thead>\n",
       "    <tr style=\"text-align: right;\">\n",
       "      <th></th>\n",
       "      <th>Grade</th>\n",
       "      <th>Name</th>\n",
       "      <th>Gender</th>\n",
       "      <th>Height</th>\n",
       "      <th>Weight</th>\n",
       "      <th>Transfer</th>\n",
       "    </tr>\n",
       "  </thead>\n",
       "  <tbody>\n",
       "    <tr>\n",
       "      <th>3</th>\n",
       "      <td>Sophomore</td>\n",
       "      <td>Xiaojuan Sun</td>\n",
       "      <td>Female</td>\n",
       "      <td>NaN</td>\n",
       "      <td>41.0</td>\n",
       "      <td>N</td>\n",
       "    </tr>\n",
       "    <tr>\n",
       "      <th>9</th>\n",
       "      <td>Junior</td>\n",
       "      <td>Juan Xu</td>\n",
       "      <td>Female</td>\n",
       "      <td>164.8</td>\n",
       "      <td>NaN</td>\n",
       "      <td>N</td>\n",
       "    </tr>\n",
       "    <tr>\n",
       "      <th>12</th>\n",
       "      <td>Senior</td>\n",
       "      <td>Peng You</td>\n",
       "      <td>Female</td>\n",
       "      <td>NaN</td>\n",
       "      <td>48.0</td>\n",
       "      <td>NaN</td>\n",
       "    </tr>\n",
       "    <tr>\n",
       "      <th>21</th>\n",
       "      <td>Senior</td>\n",
       "      <td>Xiaopeng Shen</td>\n",
       "      <td>Male</td>\n",
       "      <td>166.0</td>\n",
       "      <td>62.0</td>\n",
       "      <td>NaN</td>\n",
       "    </tr>\n",
       "    <tr>\n",
       "      <th>26</th>\n",
       "      <td>Junior</td>\n",
       "      <td>Yanli You</td>\n",
       "      <td>Female</td>\n",
       "      <td>NaN</td>\n",
       "      <td>48.0</td>\n",
       "      <td>N</td>\n",
       "    </tr>\n",
       "  </tbody>\n",
       "</table>\n",
       "</div>"
      ],
      "text/plain": [
       "        Grade           Name  Gender  Height  Weight Transfer\n",
       "3   Sophomore   Xiaojuan Sun  Female     NaN    41.0        N\n",
       "9      Junior        Juan Xu  Female   164.8     NaN        N\n",
       "12     Senior       Peng You  Female     NaN    48.0      NaN\n",
       "21     Senior  Xiaopeng Shen    Male   166.0    62.0      NaN\n",
       "26     Junior      Yanli You  Female     NaN    48.0        N"
      ]
     },
     "execution_count": 9,
     "metadata": {},
     "output_type": "execute_result"
    }
   ],
   "source": [
    "df[df[['Height', 'Weight', 'Transfer']].isna().any(1)].head() # 至少有一个缺失"
   ]
  },
  {
   "cell_type": "code",
   "execution_count": 10,
   "id": "e9115d76",
   "metadata": {},
   "outputs": [
    {
     "data": {
      "text/html": [
       "<div>\n",
       "<style scoped>\n",
       "    .dataframe tbody tr th:only-of-type {\n",
       "        vertical-align: middle;\n",
       "    }\n",
       "\n",
       "    .dataframe tbody tr th {\n",
       "        vertical-align: top;\n",
       "    }\n",
       "\n",
       "    .dataframe thead th {\n",
       "        text-align: right;\n",
       "    }\n",
       "</style>\n",
       "<table border=\"1\" class=\"dataframe\">\n",
       "  <thead>\n",
       "    <tr style=\"text-align: right;\">\n",
       "      <th></th>\n",
       "      <th>Grade</th>\n",
       "      <th>Name</th>\n",
       "      <th>Gender</th>\n",
       "      <th>Height</th>\n",
       "      <th>Weight</th>\n",
       "      <th>Transfer</th>\n",
       "    </tr>\n",
       "  </thead>\n",
       "  <tbody>\n",
       "    <tr>\n",
       "      <th>0</th>\n",
       "      <td>Freshman</td>\n",
       "      <td>Gaopeng Yang</td>\n",
       "      <td>Female</td>\n",
       "      <td>158.9</td>\n",
       "      <td>46.0</td>\n",
       "      <td>N</td>\n",
       "    </tr>\n",
       "    <tr>\n",
       "      <th>1</th>\n",
       "      <td>Freshman</td>\n",
       "      <td>Changqiang You</td>\n",
       "      <td>Male</td>\n",
       "      <td>166.5</td>\n",
       "      <td>70.0</td>\n",
       "      <td>N</td>\n",
       "    </tr>\n",
       "    <tr>\n",
       "      <th>2</th>\n",
       "      <td>Senior</td>\n",
       "      <td>Mei Sun</td>\n",
       "      <td>Male</td>\n",
       "      <td>188.9</td>\n",
       "      <td>89.0</td>\n",
       "      <td>N</td>\n",
       "    </tr>\n",
       "    <tr>\n",
       "      <th>4</th>\n",
       "      <td>Sophomore</td>\n",
       "      <td>Gaojuan You</td>\n",
       "      <td>Male</td>\n",
       "      <td>174.0</td>\n",
       "      <td>74.0</td>\n",
       "      <td>N</td>\n",
       "    </tr>\n",
       "    <tr>\n",
       "      <th>5</th>\n",
       "      <td>Freshman</td>\n",
       "      <td>Xiaoli Qian</td>\n",
       "      <td>Female</td>\n",
       "      <td>158.0</td>\n",
       "      <td>51.0</td>\n",
       "      <td>N</td>\n",
       "    </tr>\n",
       "  </tbody>\n",
       "</table>\n",
       "</div>"
      ],
      "text/plain": [
       "       Grade            Name  Gender  Height  Weight Transfer\n",
       "0   Freshman    Gaopeng Yang  Female   158.9    46.0        N\n",
       "1   Freshman  Changqiang You    Male   166.5    70.0        N\n",
       "2     Senior         Mei Sun    Male   188.9    89.0        N\n",
       "4  Sophomore     Gaojuan You    Male   174.0    74.0        N\n",
       "5   Freshman     Xiaoli Qian  Female   158.0    51.0        N"
      ]
     },
     "execution_count": 10,
     "metadata": {},
     "output_type": "execute_result"
    }
   ],
   "source": [
    "df[df[['Height', 'Weight', 'Transfer']].notna().all(1)].head() # 没有缺失"
   ]
  },
  {
   "cell_type": "markdown",
   "id": "9c9422b8",
   "metadata": {},
   "source": [
    "### 缺失信息的删除\n",
    "###### dropna 的主要参数\n",
    "    轴方向 axis （默认为0，即删除行）\n",
    "    删除方式 how，主要有 any 和 all 两种参数可以选择\n",
    "    删除的非缺失值个数阈值 thresh （ 非缺失值 没有达到这个数量的相应维度会被删除）\n",
    "    备选的删除子集 subset"
   ]
  },
  {
   "cell_type": "code",
   "execution_count": 11,
   "id": "75750bd8",
   "metadata": {},
   "outputs": [
    {
     "data": {
      "text/plain": [
       "(174, 6)"
      ]
     },
     "execution_count": 11,
     "metadata": {},
     "output_type": "execute_result"
    }
   ],
   "source": [
    "# 例如，删除身高体重至少有一个缺失的行\n",
    "res = df.dropna(how = 'any', subset = ['Height', 'Weight'])\n",
    "res.shape"
   ]
  },
  {
   "cell_type": "code",
   "execution_count": 12,
   "id": "a59f3745",
   "metadata": {},
   "outputs": [
    {
     "name": "stderr",
     "output_type": "stream",
     "text": [
      "C:\\Users\\Public\\Documents\\Wondershare\\CreatorTemp\\ipykernel_21544\\3716673429.py:2: FutureWarning: In a future version of pandas all arguments of DataFrame.dropna will be keyword-only.\n",
      "  res = df.dropna(1, thresh=df.shape[0]-15) # 身高被删除\n"
     ]
    },
    {
     "data": {
      "text/html": [
       "<div>\n",
       "<style scoped>\n",
       "    .dataframe tbody tr th:only-of-type {\n",
       "        vertical-align: middle;\n",
       "    }\n",
       "\n",
       "    .dataframe tbody tr th {\n",
       "        vertical-align: top;\n",
       "    }\n",
       "\n",
       "    .dataframe thead th {\n",
       "        text-align: right;\n",
       "    }\n",
       "</style>\n",
       "<table border=\"1\" class=\"dataframe\">\n",
       "  <thead>\n",
       "    <tr style=\"text-align: right;\">\n",
       "      <th></th>\n",
       "      <th>Grade</th>\n",
       "      <th>Name</th>\n",
       "      <th>Gender</th>\n",
       "      <th>Weight</th>\n",
       "      <th>Transfer</th>\n",
       "    </tr>\n",
       "  </thead>\n",
       "  <tbody>\n",
       "    <tr>\n",
       "      <th>0</th>\n",
       "      <td>Freshman</td>\n",
       "      <td>Gaopeng Yang</td>\n",
       "      <td>Female</td>\n",
       "      <td>46.0</td>\n",
       "      <td>N</td>\n",
       "    </tr>\n",
       "    <tr>\n",
       "      <th>1</th>\n",
       "      <td>Freshman</td>\n",
       "      <td>Changqiang You</td>\n",
       "      <td>Male</td>\n",
       "      <td>70.0</td>\n",
       "      <td>N</td>\n",
       "    </tr>\n",
       "    <tr>\n",
       "      <th>2</th>\n",
       "      <td>Senior</td>\n",
       "      <td>Mei Sun</td>\n",
       "      <td>Male</td>\n",
       "      <td>89.0</td>\n",
       "      <td>N</td>\n",
       "    </tr>\n",
       "    <tr>\n",
       "      <th>3</th>\n",
       "      <td>Sophomore</td>\n",
       "      <td>Xiaojuan Sun</td>\n",
       "      <td>Female</td>\n",
       "      <td>41.0</td>\n",
       "      <td>N</td>\n",
       "    </tr>\n",
       "    <tr>\n",
       "      <th>4</th>\n",
       "      <td>Sophomore</td>\n",
       "      <td>Gaojuan You</td>\n",
       "      <td>Male</td>\n",
       "      <td>74.0</td>\n",
       "      <td>N</td>\n",
       "    </tr>\n",
       "  </tbody>\n",
       "</table>\n",
       "</div>"
      ],
      "text/plain": [
       "       Grade            Name  Gender  Weight Transfer\n",
       "0   Freshman    Gaopeng Yang  Female    46.0        N\n",
       "1   Freshman  Changqiang You    Male    70.0        N\n",
       "2     Senior         Mei Sun    Male    89.0        N\n",
       "3  Sophomore    Xiaojuan Sun  Female    41.0        N\n",
       "4  Sophomore     Gaojuan You    Male    74.0        N"
      ]
     },
     "execution_count": 12,
     "metadata": {},
     "output_type": "execute_result"
    }
   ],
   "source": [
    "# 例如，删除超过15个缺失值的列\n",
    "res = df.dropna(1, thresh=df.shape[0]-15) # 身高被删除\n",
    "res.head()"
   ]
  },
  {
   "cell_type": "code",
   "execution_count": 13,
   "id": "c93a821d",
   "metadata": {},
   "outputs": [
    {
     "data": {
      "text/html": [
       "<div>\n",
       "<style scoped>\n",
       "    .dataframe tbody tr th:only-of-type {\n",
       "        vertical-align: middle;\n",
       "    }\n",
       "\n",
       "    .dataframe tbody tr th {\n",
       "        vertical-align: top;\n",
       "    }\n",
       "\n",
       "    .dataframe thead th {\n",
       "        text-align: right;\n",
       "    }\n",
       "</style>\n",
       "<table border=\"1\" class=\"dataframe\">\n",
       "  <thead>\n",
       "    <tr style=\"text-align: right;\">\n",
       "      <th></th>\n",
       "      <th>Grade</th>\n",
       "      <th>Name</th>\n",
       "      <th>Gender</th>\n",
       "      <th>Weight</th>\n",
       "      <th>Transfer</th>\n",
       "    </tr>\n",
       "  </thead>\n",
       "  <tbody>\n",
       "    <tr>\n",
       "      <th>0</th>\n",
       "      <td>Freshman</td>\n",
       "      <td>Gaopeng Yang</td>\n",
       "      <td>Female</td>\n",
       "      <td>46.0</td>\n",
       "      <td>N</td>\n",
       "    </tr>\n",
       "    <tr>\n",
       "      <th>1</th>\n",
       "      <td>Freshman</td>\n",
       "      <td>Changqiang You</td>\n",
       "      <td>Male</td>\n",
       "      <td>70.0</td>\n",
       "      <td>N</td>\n",
       "    </tr>\n",
       "    <tr>\n",
       "      <th>2</th>\n",
       "      <td>Senior</td>\n",
       "      <td>Mei Sun</td>\n",
       "      <td>Male</td>\n",
       "      <td>89.0</td>\n",
       "      <td>N</td>\n",
       "    </tr>\n",
       "    <tr>\n",
       "      <th>3</th>\n",
       "      <td>Sophomore</td>\n",
       "      <td>Xiaojuan Sun</td>\n",
       "      <td>Female</td>\n",
       "      <td>41.0</td>\n",
       "      <td>N</td>\n",
       "    </tr>\n",
       "    <tr>\n",
       "      <th>4</th>\n",
       "      <td>Sophomore</td>\n",
       "      <td>Gaojuan You</td>\n",
       "      <td>Male</td>\n",
       "      <td>74.0</td>\n",
       "      <td>N</td>\n",
       "    </tr>\n",
       "  </tbody>\n",
       "</table>\n",
       "</div>"
      ],
      "text/plain": [
       "       Grade            Name  Gender  Weight Transfer\n",
       "0   Freshman    Gaopeng Yang  Female    46.0        N\n",
       "1   Freshman  Changqiang You    Male    70.0        N\n",
       "2     Senior         Mei Sun    Male    89.0        N\n",
       "3  Sophomore    Xiaojuan Sun  Female    41.0        N\n",
       "4  Sophomore     Gaojuan You    Male    74.0        N"
      ]
     },
     "execution_count": 13,
     "metadata": {},
     "output_type": "execute_result"
    }
   ],
   "source": [
    "# 使用布尔索引来完成\n",
    "res = df.loc[:, ~(df.isna().sum()>15)]\n",
    "res.head()"
   ]
  },
  {
   "cell_type": "markdown",
   "id": "f2e9d169",
   "metadata": {},
   "source": [
    "## 缺失值的填充和插值"
   ]
  },
  {
   "cell_type": "markdown",
   "id": "e218af29",
   "metadata": {},
   "source": [
    "### 利用fillna进行填充\n",
    "###### 三个常用的参数\n",
    "    value 为填充值，可以是标量，也可以是索引到元素的字典映射\n",
    "    method 为填充方法，有用前面的元素填充 ffill 和用后面的元素填充 bfill 两种类型\n",
    "    limit 参数表示连续缺失值的最大填充次数"
   ]
  },
  {
   "cell_type": "code",
   "execution_count": 14,
   "id": "7f2bf7cf",
   "metadata": {},
   "outputs": [],
   "source": [
    "s = pd.Series([np.nan, 1, np.nan, np.nan, 2, np.nan],list('aaabcd'))"
   ]
  },
  {
   "cell_type": "code",
   "execution_count": 17,
   "id": "0e72144a",
   "metadata": {},
   "outputs": [
    {
     "data": {
      "text/plain": [
       "a    NaN\n",
       "a    1.0\n",
       "a    1.0\n",
       "b    1.0\n",
       "c    2.0\n",
       "d    2.0\n",
       "dtype: float64"
      ]
     },
     "execution_count": 17,
     "metadata": {},
     "output_type": "execute_result"
    }
   ],
   "source": [
    "# 用前面的值向后填充\n",
    "s.fillna(method='ffill')"
   ]
  },
  {
   "cell_type": "code",
   "execution_count": 18,
   "id": "eebe62ca",
   "metadata": {},
   "outputs": [
    {
     "data": {
      "text/plain": [
       "a    NaN\n",
       "a    1.0\n",
       "a    1.0\n",
       "b    NaN\n",
       "c    2.0\n",
       "d    2.0\n",
       "dtype: float64"
      ]
     },
     "execution_count": 18,
     "metadata": {},
     "output_type": "execute_result"
    }
   ],
   "source": [
    "# 连续出现的缺失，最多填充一次\n",
    "s.fillna(method='ffill', limit=1)"
   ]
  },
  {
   "cell_type": "code",
   "execution_count": 20,
   "id": "807c61a9",
   "metadata": {},
   "outputs": [
    {
     "data": {
      "text/plain": [
       "a    1.5\n",
       "a    1.0\n",
       "a    1.5\n",
       "b    1.5\n",
       "c    2.0\n",
       "d    1.5\n",
       "dtype: float64"
      ]
     },
     "execution_count": 20,
     "metadata": {},
     "output_type": "execute_result"
    }
   ],
   "source": [
    "# value为标量\n",
    "s.fillna(s.mean())"
   ]
  },
  {
   "cell_type": "code",
   "execution_count": 21,
   "id": "6b74be1d",
   "metadata": {},
   "outputs": [
    {
     "data": {
      "text/plain": [
       "a    100.0\n",
       "a      1.0\n",
       "a    100.0\n",
       "b      NaN\n",
       "c      2.0\n",
       "d    200.0\n",
       "dtype: float64"
      ]
     },
     "execution_count": 21,
     "metadata": {},
     "output_type": "execute_result"
    }
   ],
   "source": [
    "# 通过索引映射填充的值\n",
    "s.fillna({'a': 100, 'd': 200}) "
   ]
  },
  {
   "cell_type": "markdown",
   "id": "30714f74",
   "metadata": {},
   "source": [
    "###### 有时为了更加合理地填充，需要先进行分组后再操作"
   ]
  },
  {
   "cell_type": "code",
   "execution_count": 22,
   "id": "477a30fb",
   "metadata": {},
   "outputs": [
    {
     "data": {
      "text/plain": [
       "0    158.900000\n",
       "1    166.500000\n",
       "2    188.900000\n",
       "3    163.075862\n",
       "4    174.000000\n",
       "Name: Height, dtype: float64"
      ]
     },
     "execution_count": 22,
     "metadata": {},
     "output_type": "execute_result"
    }
   ],
   "source": [
    "# 例如，根据年级进行身高的均值填充\n",
    "df.groupby('Grade')['Height'].transform(lambda x: x.fillna(x.mean())).head()"
   ]
  },
  {
   "cell_type": "markdown",
   "id": "65fafb06",
   "metadata": {},
   "source": [
    "### 插值函数\n",
    "    插值是个大学问，之后再研究"
   ]
  },
  {
   "cell_type": "markdown",
   "id": "dc9309dc",
   "metadata": {},
   "source": [
    "## Nullable类型"
   ]
  },
  {
   "cell_type": "markdown",
   "id": "06b4d22d",
   "metadata": {},
   "source": [
    "### 缺失记号及其缺陷\n",
    "    在 python 中的缺失值用 None 表示，该元素除了等于自己本身之外，与其他任何元素不相等\n",
    "    在 numpy 中利用 np.nan 来表示缺失值，该元素除了不和其他任何元素相等之外，和自身的比较结果也返回 False\n",
    "    在时间序列的对象中， pandas 利用 pd.NaT 来指代缺失值，它的作用和 np.nan 是一致的"
   ]
  },
  {
   "cell_type": "markdown",
   "id": "9d5a18f7",
   "metadata": {},
   "source": [
    "###### 那么为什么要引入 pd.NaT 来表示时间对象中的缺失呢？仍然以 np.nan 的形式存放会有什么问题？在 pandas 中可以看到 object 类型的对象，而 object 是一种混杂对象类型，如果出现了多个类型的元素同时存储在 Series 中，它的类型就会变成 object 。\n",
    "###### NaT 问题的根源来自于 np.nan 的本身是一种浮点类型，而如果浮点和时间类型混合存储，如果不设计新的内置缺失类型来处理，就会变成含糊不清的 object 类型，这显然是不希望看到的。\n",
    "###### pandas 尝试设计了一种新的缺失类型 pd.NA 以及三种 Nullable 序列类型来应对这些缺陷，它们分别是 Int, boolean 和 string 。"
   ]
  },
  {
   "cell_type": "code",
   "execution_count": 24,
   "id": "5f18a7bc",
   "metadata": {},
   "outputs": [
    {
     "data": {
      "text/plain": [
       "float"
      ]
     },
     "execution_count": 24,
     "metadata": {},
     "output_type": "execute_result"
    }
   ],
   "source": [
    "type(np.nan)"
   ]
  },
  {
   "cell_type": "markdown",
   "id": "eaac9ddf",
   "metadata": {},
   "source": [
    "### Nullable类型的性质\n",
    "    从字面意义上看 Nullable 就是可空的，言下之意就是序列类型不受缺失值的影响"
   ]
  },
  {
   "cell_type": "code",
   "execution_count": 25,
   "id": "704b90c9",
   "metadata": {},
   "outputs": [
    {
     "data": {
      "text/plain": [
       "0    <NA>\n",
       "1       1\n",
       "dtype: Int64"
      ]
     },
     "execution_count": 25,
     "metadata": {},
     "output_type": "execute_result"
    }
   ],
   "source": [
    "pd.Series([np.nan, 1], dtype = 'Int64') # \"i\"是大写的"
   ]
  },
  {
   "cell_type": "code",
   "execution_count": 26,
   "id": "2ff3d8ac",
   "metadata": {},
   "outputs": [
    {
     "data": {
      "text/plain": [
       "0    <NA>\n",
       "1    True\n",
       "dtype: boolean"
      ]
     },
     "execution_count": 26,
     "metadata": {},
     "output_type": "execute_result"
    }
   ],
   "source": [
    "pd.Series([np.nan, True], dtype = 'boolean')"
   ]
  },
  {
   "cell_type": "code",
   "execution_count": 27,
   "id": "2486ed4b",
   "metadata": {},
   "outputs": [
    {
     "data": {
      "text/plain": [
       "0      <NA>\n",
       "1    my_str\n",
       "dtype: string"
      ]
     },
     "execution_count": 27,
     "metadata": {},
     "output_type": "execute_result"
    }
   ],
   "source": [
    "pd.Series([np.nan, 'my_str'], dtype = 'string')"
   ]
  },
  {
   "cell_type": "markdown",
   "id": "b5b2b5b5",
   "metadata": {},
   "source": [
    "    对于 boolean 类型的序列而言，其和 bool 序列的行为主要有两点区别\n",
    "    第一点是带有缺失的布尔列表无法进行索引器中的选择，而 boolean 会把缺失值看作 False"
   ]
  },
  {
   "cell_type": "code",
   "execution_count": 28,
   "id": "c91e1403",
   "metadata": {},
   "outputs": [
    {
     "data": {
      "text/plain": [
       "0    a\n",
       "dtype: object"
      ]
     },
     "execution_count": 28,
     "metadata": {},
     "output_type": "execute_result"
    }
   ],
   "source": [
    "s = pd.Series(['a', 'b'])\n",
    "s_bool = pd.Series([True, np.nan])\n",
    "s_boolean = pd.Series([True, np.nan]).astype('boolean')\n",
    "# s[s_bool] # 报错\n",
    "s[s_boolean]"
   ]
  },
  {
   "cell_type": "markdown",
   "id": "26795fef",
   "metadata": {},
   "source": [
    "    第二点是在进行逻辑运算时， bool 类型在缺失处返回的永远是 False ，而 boolean 会根据逻辑运算是否能确定唯一结果来返回相应的值。那什么叫能否确定唯一结果呢？举个简单例子： True | pd.NA 中无论缺失值为什么值，必然返回 True ； False | pd.NA 中的结果会根据缺失值取值的不同而变化，此时返回 pd.NA ； False & pd.NA 中无论缺失值为什么值，必然返回 False 。"
   ]
  },
  {
   "cell_type": "code",
   "execution_count": 29,
   "id": "bf7c1e38",
   "metadata": {},
   "outputs": [
    {
     "data": {
      "text/plain": [
       "0    True\n",
       "1    <NA>\n",
       "dtype: boolean"
      ]
     },
     "execution_count": 29,
     "metadata": {},
     "output_type": "execute_result"
    }
   ],
   "source": [
    "s_boolean & True"
   ]
  },
  {
   "cell_type": "code",
   "execution_count": 30,
   "id": "ac071647",
   "metadata": {},
   "outputs": [
    {
     "data": {
      "text/plain": [
       "0    True\n",
       "1    True\n",
       "dtype: boolean"
      ]
     },
     "execution_count": 30,
     "metadata": {},
     "output_type": "execute_result"
    }
   ],
   "source": [
    "s_boolean | True"
   ]
  },
  {
   "cell_type": "code",
   "execution_count": 31,
   "id": "9274043a",
   "metadata": {},
   "outputs": [
    {
     "data": {
      "text/plain": [
       "0    False\n",
       "1     <NA>\n",
       "dtype: boolean"
      ]
     },
     "execution_count": 31,
     "metadata": {},
     "output_type": "execute_result"
    }
   ],
   "source": [
    "~s_boolean"
   ]
  },
  {
   "cell_type": "markdown",
   "id": "60ef0bdf",
   "metadata": {},
   "source": [
    "###### <span class=\"mark\">一般在实际数据处理时，可以在数据集读入后，先通过 convert_dtypes 转为 Nullable 类型</span>"
   ]
  },
  {
   "cell_type": "markdown",
   "id": "a97c697c",
   "metadata": {},
   "source": [
    "### 缺失数据的计算和分组"
   ]
  },
  {
   "cell_type": "markdown",
   "id": "81e67725",
   "metadata": {},
   "source": [
    "    当调用函数 sum, prod 使用加法和乘法的时候，缺失数据等价于被分别视作0和1，即不改变原来的计算结果"
   ]
  },
  {
   "cell_type": "code",
   "execution_count": 32,
   "id": "2ced39f1",
   "metadata": {},
   "outputs": [
    {
     "name": "stdout",
     "output_type": "stream",
     "text": [
      "14.0 120.0\n"
     ]
    }
   ],
   "source": [
    "s = pd.Series([2,3,np.nan,4,5])\n",
    "print(s.sum(),s.prod())"
   ]
  },
  {
   "cell_type": "markdown",
   "id": "3bdd8001",
   "metadata": {},
   "source": [
    "    当使用累计函数时，会自动跳过缺失值所处的位置"
   ]
  },
  {
   "cell_type": "code",
   "execution_count": 33,
   "id": "a0265bcd",
   "metadata": {},
   "outputs": [
    {
     "data": {
      "text/plain": [
       "0     2.0\n",
       "1     5.0\n",
       "2     NaN\n",
       "3     9.0\n",
       "4    14.0\n",
       "dtype: float64"
      ]
     },
     "execution_count": 33,
     "metadata": {},
     "output_type": "execute_result"
    }
   ],
   "source": [
    "s.cumsum()"
   ]
  },
  {
   "attachments": {
    "image.png": {
     "image/png": "[encoded data removed]"
    }
   },
   "cell_type": "markdown",
   "id": "9e28023e",
   "metadata": {},
   "source": [
    "    当进行单个标量运算的时候，除了 np.nan ** 0 和 1 ** np.nan 这两种情况为确定的值之外，所有运算结果全为缺失（ pd.NA 的行为与此一致 ），并且 np.nan 在比较操作时一定返回 False ，而 pd.NA 返回 pd.NA \n",
    "![image.png](attachment:image.png)"
   ]
  },
  {
   "cell_type": "markdown",
   "id": "55b2db1b",
   "metadata": {},
   "source": [
    "## 练习"
   ]
  },
  {
   "cell_type": "markdown",
   "id": "d3fd92b4",
   "metadata": {},
   "source": [
    "### 缺失值与类别的相关性检验"
   ]
  },
  {
   "cell_type": "code",
   "execution_count": 39,
   "id": "35516755",
   "metadata": {},
   "outputs": [
    {
     "data": {
      "text/html": [
       "<div>\n",
       "<style scoped>\n",
       "    .dataframe tbody tr th:only-of-type {\n",
       "        vertical-align: middle;\n",
       "    }\n",
       "\n",
       "    .dataframe tbody tr th {\n",
       "        vertical-align: top;\n",
       "    }\n",
       "\n",
       "    .dataframe thead th {\n",
       "        text-align: right;\n",
       "    }\n",
       "</style>\n",
       "<table border=\"1\" class=\"dataframe\">\n",
       "  <thead>\n",
       "    <tr style=\"text-align: right;\">\n",
       "      <th></th>\n",
       "      <th>X_1</th>\n",
       "      <th>X_2</th>\n",
       "      <th>y</th>\n",
       "    </tr>\n",
       "  </thead>\n",
       "  <tbody>\n",
       "    <tr>\n",
       "      <th>0</th>\n",
       "      <td>NaN</td>\n",
       "      <td>NaN</td>\n",
       "      <td>0</td>\n",
       "    </tr>\n",
       "    <tr>\n",
       "      <th>1</th>\n",
       "      <td>NaN</td>\n",
       "      <td>NaN</td>\n",
       "      <td>0</td>\n",
       "    </tr>\n",
       "    <tr>\n",
       "      <th>2</th>\n",
       "      <td>NaN</td>\n",
       "      <td>NaN</td>\n",
       "      <td>0</td>\n",
       "    </tr>\n",
       "    <tr>\n",
       "      <th>3</th>\n",
       "      <td>43.0</td>\n",
       "      <td>NaN</td>\n",
       "      <td>0</td>\n",
       "    </tr>\n",
       "    <tr>\n",
       "      <th>4</th>\n",
       "      <td>NaN</td>\n",
       "      <td>NaN</td>\n",
       "      <td>0</td>\n",
       "    </tr>\n",
       "  </tbody>\n",
       "</table>\n",
       "</div>"
      ],
      "text/plain": [
       "    X_1  X_2  y\n",
       "0   NaN  NaN  0\n",
       "1   NaN  NaN  0\n",
       "2   NaN  NaN  0\n",
       "3  43.0  NaN  0\n",
       "4   NaN  NaN  0"
      ]
     },
     "execution_count": 39,
     "metadata": {},
     "output_type": "execute_result"
    }
   ],
   "source": [
    "df = pd.read_csv('data/missing_chi.csv')\n",
    "df.head()"
   ]
  },
  {
   "cell_type": "code",
   "execution_count": 35,
   "id": "93f347f2",
   "metadata": {},
   "outputs": [
    {
     "data": {
      "text/plain": [
       "X_1    0.855\n",
       "X_2    0.894\n",
       "y      0.000\n",
       "dtype: float64"
      ]
     },
     "execution_count": 35,
     "metadata": {},
     "output_type": "execute_result"
    }
   ],
   "source": [
    "df.isna().mean()"
   ]
  },
  {
   "cell_type": "code",
   "execution_count": 37,
   "id": "1dc6abc9",
   "metadata": {},
   "outputs": [
    {
     "data": {
      "text/plain": [
       "0    0.918\n",
       "1    0.082\n",
       "Name: y, dtype: float64"
      ]
     },
     "execution_count": 37,
     "metadata": {},
     "output_type": "execute_result"
    }
   ],
   "source": [
    "df.y.value_counts(normalize=True)"
   ]
  },
  {
   "cell_type": "code",
   "execution_count": 44,
   "id": "2c681b1c",
   "metadata": {},
   "outputs": [],
   "source": [
    "cat_1 = df.X_1.fillna('NaN').mask(df.X_1.notna()).fillna(\"NotNaN\")\n",
    "cat_2 = df.X_2.fillna('NaN').mask(df.X_2.notna()).fillna(\"NotNaN\")"
   ]
  },
  {
   "cell_type": "code",
   "execution_count": 46,
   "id": "de6a3d45",
   "metadata": {},
   "outputs": [],
   "source": [
    "df_1 = pd.crosstab(cat_1, df.y, margins=True)\n",
    "df_2 = pd.crosstab(cat_2, df.y, margins=True)"
   ]
  },
  {
   "cell_type": "code",
   "execution_count": 49,
   "id": "cba91732",
   "metadata": {},
   "outputs": [],
   "source": [
    "def compute_S(my_df):\n",
    "    S = []\n",
    "    for i in range(2):\n",
    "        for j in range(2):\n",
    "            E = my_df.iat[i, j]\n",
    "            F = my_df.iat[i, 2]*my_df.iat[2, j]/my_df.iat[2,2]\n",
    "            S.append((E-F)**2/F)\n",
    "    return sum(S)\n",
    "\n",
    "res1 = compute_S(df_1)\n",
    "res2 = compute_S(df_2)"
   ]
  },
  {
   "cell_type": "code",
   "execution_count": 50,
   "id": "6e211631",
   "metadata": {},
   "outputs": [
    {
     "name": "stdout",
     "output_type": "stream",
     "text": [
      "0.9712760884395901\n",
      "7.459641265637543e-166\n"
     ]
    }
   ],
   "source": [
    "from scipy.stats import chi2\n",
    "\n",
    "print(chi2.sf(res1, 1)) # X_1检验的p值 # 不能认为相关，剔除\n",
    "\n",
    "print(chi2.sf(res2, 1)) # X_2检验的p值 # 认为相关，保留"
   ]
  }
 ],
 "metadata": {
  "kernelspec": {
   "display_name": "Python 3 (ipykernel)",
   "language": "python",
   "name": "python3"
  },
  "language_info": {
   "codemirror_mode": {
    "name": "ipython",
    "version": 3
   },
   "file_extension": ".py",
   "mimetype": "text/x-python",
   "name": "python",
   "nbconvert_exporter": "python",
   "pygments_lexer": "ipython3",
   "version": "3.9.12"
  },
  "toc": {
   "base_numbering": 1,
   "nav_menu": {},
   "number_sections": true,
   "sideBar": true,
   "skip_h1_title": true,
   "title_cell": "Table of Contents",
   "title_sidebar": "Contents",
   "toc_cell": false,
   "toc_position": {},
   "toc_section_display": true,
   "toc_window_display": true
  },
  "varInspector": {
   "cols": {
    "lenName": 16,
    "lenType": 16,
    "lenVar": 40
   },
   "kernels_config": {
    "python": {
     "delete_cmd_postfix": "",
     "delete_cmd_prefix": "del ",
     "library": "var_list.py",
     "varRefreshCmd": "print(var_dic_list())"
    },
    "r": {
     "delete_cmd_postfix": ") ",
     "delete_cmd_prefix": "rm(",
     "library": "var_list.r",
     "varRefreshCmd": "cat(var_dic_list()) "
    }
   },
   "types_to_exclude": [
    "module",
    "function",
    "builtin_function_or_method",
    "instance",
    "_Feature"
   ],
   "window_display": false
  }
 },
 "nbformat": 4,
 "nbformat_minor": 5
}
