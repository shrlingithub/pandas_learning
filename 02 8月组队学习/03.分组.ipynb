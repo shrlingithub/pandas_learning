{
 "cells": [
  {
   "cell_type": "markdown",
   "id": "0c3eb67f",
   "metadata": {},
   "source": [
    "# 分组"
   ]
  },
  {
   "cell_type": "code",
   "execution_count": 1,
   "id": "625816a9",
   "metadata": {},
   "outputs": [],
   "source": [
    "import numpy as np\n",
    "import pandas as pd"
   ]
  },
  {
   "cell_type": "markdown",
   "id": "58f05c48",
   "metadata": {},
   "source": [
    "### 一、分组模式及其对象"
   ]
  },
  {
   "cell_type": "markdown",
   "id": "0e03a821",
   "metadata": {},
   "source": [
    "#### 1.分组的一般模式：**<font color = red>df.groupby(分组依据)[数据来源].使用操作</font>**"
   ]
  },
  {
   "cell_type": "code",
   "execution_count": 3,
   "id": "3a32407e",
   "metadata": {},
   "outputs": [
    {
     "data": {
      "text/html": [
       "<div>\n",
       "<style scoped>\n",
       "    .dataframe tbody tr th:only-of-type {\n",
       "        vertical-align: middle;\n",
       "    }\n",
       "\n",
       "    .dataframe tbody tr th {\n",
       "        vertical-align: top;\n",
       "    }\n",
       "\n",
       "    .dataframe thead th {\n",
       "        text-align: right;\n",
       "    }\n",
       "</style>\n",
       "<table border=\"1\" class=\"dataframe\">\n",
       "  <thead>\n",
       "    <tr style=\"text-align: right;\">\n",
       "      <th></th>\n",
       "      <th>School</th>\n",
       "      <th>Grade</th>\n",
       "      <th>Name</th>\n",
       "      <th>Gender</th>\n",
       "      <th>Height</th>\n",
       "      <th>Weight</th>\n",
       "      <th>Transfer</th>\n",
       "      <th>Test_Number</th>\n",
       "      <th>Test_Date</th>\n",
       "      <th>Time_Record</th>\n",
       "    </tr>\n",
       "  </thead>\n",
       "  <tbody>\n",
       "    <tr>\n",
       "      <th>0</th>\n",
       "      <td>Shanghai Jiao Tong University</td>\n",
       "      <td>Freshman</td>\n",
       "      <td>Gaopeng Yang</td>\n",
       "      <td>Female</td>\n",
       "      <td>158.9</td>\n",
       "      <td>46.0</td>\n",
       "      <td>N</td>\n",
       "      <td>1</td>\n",
       "      <td>2019/10/5</td>\n",
       "      <td>0:04:34</td>\n",
       "    </tr>\n",
       "    <tr>\n",
       "      <th>1</th>\n",
       "      <td>Peking University</td>\n",
       "      <td>Freshman</td>\n",
       "      <td>Changqiang You</td>\n",
       "      <td>Male</td>\n",
       "      <td>166.5</td>\n",
       "      <td>70.0</td>\n",
       "      <td>N</td>\n",
       "      <td>1</td>\n",
       "      <td>2019/9/4</td>\n",
       "      <td>0:04:20</td>\n",
       "    </tr>\n",
       "    <tr>\n",
       "      <th>2</th>\n",
       "      <td>Shanghai Jiao Tong University</td>\n",
       "      <td>Senior</td>\n",
       "      <td>Mei Sun</td>\n",
       "      <td>Male</td>\n",
       "      <td>188.9</td>\n",
       "      <td>89.0</td>\n",
       "      <td>N</td>\n",
       "      <td>2</td>\n",
       "      <td>2019/9/12</td>\n",
       "      <td>0:05:22</td>\n",
       "    </tr>\n",
       "    <tr>\n",
       "      <th>3</th>\n",
       "      <td>Fudan University</td>\n",
       "      <td>Sophomore</td>\n",
       "      <td>Xiaojuan Sun</td>\n",
       "      <td>Female</td>\n",
       "      <td>NaN</td>\n",
       "      <td>41.0</td>\n",
       "      <td>N</td>\n",
       "      <td>2</td>\n",
       "      <td>2020/1/3</td>\n",
       "      <td>0:04:08</td>\n",
       "    </tr>\n",
       "    <tr>\n",
       "      <th>4</th>\n",
       "      <td>Fudan University</td>\n",
       "      <td>Sophomore</td>\n",
       "      <td>Gaojuan You</td>\n",
       "      <td>Male</td>\n",
       "      <td>174.0</td>\n",
       "      <td>74.0</td>\n",
       "      <td>N</td>\n",
       "      <td>2</td>\n",
       "      <td>2019/11/6</td>\n",
       "      <td>0:05:22</td>\n",
       "    </tr>\n",
       "  </tbody>\n",
       "</table>\n",
       "</div>"
      ],
      "text/plain": [
       "                          School      Grade            Name  Gender  Height  \\\n",
       "0  Shanghai Jiao Tong University   Freshman    Gaopeng Yang  Female   158.9   \n",
       "1              Peking University   Freshman  Changqiang You    Male   166.5   \n",
       "2  Shanghai Jiao Tong University     Senior         Mei Sun    Male   188.9   \n",
       "3               Fudan University  Sophomore    Xiaojuan Sun  Female     NaN   \n",
       "4               Fudan University  Sophomore     Gaojuan You    Male   174.0   \n",
       "\n",
       "   Weight Transfer  Test_Number  Test_Date Time_Record  \n",
       "0    46.0        N            1  2019/10/5     0:04:34  \n",
       "1    70.0        N            1   2019/9/4     0:04:20  \n",
       "2    89.0        N            2  2019/9/12     0:05:22  \n",
       "3    41.0        N            2   2020/1/3     0:04:08  \n",
       "4    74.0        N            2  2019/11/6     0:05:22  "
      ]
     },
     "execution_count": 3,
     "metadata": {},
     "output_type": "execute_result"
    }
   ],
   "source": [
    "df = pd.read_csv('data/learn_pandas.csv')\n",
    "df.head()"
   ]
  },
  {
   "cell_type": "code",
   "execution_count": 7,
   "id": "fb2fc0e2",
   "metadata": {},
   "outputs": [
    {
     "data": {
      "text/html": [
       "<div>\n",
       "<style scoped>\n",
       "    .dataframe tbody tr th:only-of-type {\n",
       "        vertical-align: middle;\n",
       "    }\n",
       "\n",
       "    .dataframe tbody tr th {\n",
       "        vertical-align: top;\n",
       "    }\n",
       "\n",
       "    .dataframe thead th {\n",
       "        text-align: right;\n",
       "    }\n",
       "</style>\n",
       "<table border=\"1\" class=\"dataframe\">\n",
       "  <thead>\n",
       "    <tr style=\"text-align: right;\">\n",
       "      <th></th>\n",
       "      <th></th>\n",
       "      <th>Height</th>\n",
       "      <th>Weight</th>\n",
       "    </tr>\n",
       "    <tr>\n",
       "      <th>School</th>\n",
       "      <th>Gender</th>\n",
       "      <th></th>\n",
       "      <th></th>\n",
       "    </tr>\n",
       "  </thead>\n",
       "  <tbody>\n",
       "    <tr>\n",
       "      <th rowspan=\"2\" valign=\"top\">Fudan University</th>\n",
       "      <th>Female</th>\n",
       "      <td>158.776923</td>\n",
       "      <td>47.900000</td>\n",
       "    </tr>\n",
       "    <tr>\n",
       "      <th>Male</th>\n",
       "      <td>174.212500</td>\n",
       "      <td>72.300000</td>\n",
       "    </tr>\n",
       "    <tr>\n",
       "      <th rowspan=\"2\" valign=\"top\">Peking University</th>\n",
       "      <th>Female</th>\n",
       "      <td>158.666667</td>\n",
       "      <td>46.650000</td>\n",
       "    </tr>\n",
       "    <tr>\n",
       "      <th>Male</th>\n",
       "      <td>172.030000</td>\n",
       "      <td>73.700000</td>\n",
       "    </tr>\n",
       "    <tr>\n",
       "      <th rowspan=\"2\" valign=\"top\">Shanghai Jiao Tong University</th>\n",
       "      <th>Female</th>\n",
       "      <td>159.122500</td>\n",
       "      <td>48.513514</td>\n",
       "    </tr>\n",
       "    <tr>\n",
       "      <th>Male</th>\n",
       "      <td>176.760000</td>\n",
       "      <td>76.000000</td>\n",
       "    </tr>\n",
       "    <tr>\n",
       "      <th rowspan=\"2\" valign=\"top\">Tsinghua University</th>\n",
       "      <th>Female</th>\n",
       "      <td>159.753333</td>\n",
       "      <td>48.000000</td>\n",
       "    </tr>\n",
       "    <tr>\n",
       "      <th>Male</th>\n",
       "      <td>171.638889</td>\n",
       "      <td>69.947368</td>\n",
       "    </tr>\n",
       "  </tbody>\n",
       "</table>\n",
       "</div>"
      ],
      "text/plain": [
       "                                          Height     Weight\n",
       "School                        Gender                       \n",
       "Fudan University              Female  158.776923  47.900000\n",
       "                              Male    174.212500  72.300000\n",
       "Peking University             Female  158.666667  46.650000\n",
       "                              Male    172.030000  73.700000\n",
       "Shanghai Jiao Tong University Female  159.122500  48.513514\n",
       "                              Male    176.760000  76.000000\n",
       "Tsinghua University           Female  159.753333  48.000000\n",
       "                              Male    171.638889  69.947368"
      ]
     },
     "execution_count": 7,
     "metadata": {},
     "output_type": "execute_result"
    }
   ],
   "source": [
    "df.groupby(['School','Gender'])[['Height','Weight']].mean()"
   ]
  },
  {
   "cell_type": "markdown",
   "id": "cbcc6b77",
   "metadata": {},
   "source": [
    "#### 2.复杂逻辑：**<font color = red>df.groupby(逻辑判断)[数据来源].使用操作</font>**"
   ]
  },
  {
   "cell_type": "code",
   "execution_count": 9,
   "id": "3fb79eb3",
   "metadata": {},
   "outputs": [
    {
     "data": {
      "text/html": [
       "<div>\n",
       "<style scoped>\n",
       "    .dataframe tbody tr th:only-of-type {\n",
       "        vertical-align: middle;\n",
       "    }\n",
       "\n",
       "    .dataframe tbody tr th {\n",
       "        vertical-align: top;\n",
       "    }\n",
       "\n",
       "    .dataframe thead th {\n",
       "        text-align: right;\n",
       "    }\n",
       "</style>\n",
       "<table border=\"1\" class=\"dataframe\">\n",
       "  <thead>\n",
       "    <tr style=\"text-align: right;\">\n",
       "      <th></th>\n",
       "      <th>Height</th>\n",
       "      <th>Weight</th>\n",
       "    </tr>\n",
       "  </thead>\n",
       "  <tbody>\n",
       "    <tr>\n",
       "      <th>False</th>\n",
       "      <td>159.089922</td>\n",
       "      <td>48.392593</td>\n",
       "    </tr>\n",
       "    <tr>\n",
       "      <th>True</th>\n",
       "      <td>173.079630</td>\n",
       "      <td>71.574074</td>\n",
       "    </tr>\n",
       "  </tbody>\n",
       "</table>\n",
       "</div>"
      ],
      "text/plain": [
       "           Height     Weight\n",
       "False  159.089922  48.392593\n",
       "True   173.079630  71.574074"
      ]
     },
     "execution_count": 9,
     "metadata": {},
     "output_type": "execute_result"
    }
   ],
   "source": [
    "df.groupby((df.Weight > df.Weight.mean()) & (df.Height > df.Height.mean()))[['Height','Weight']].mean()"
   ]
  },
  {
   "cell_type": "code",
   "execution_count": 15,
   "id": "a844d595",
   "metadata": {},
   "outputs": [
    {
     "data": {
      "text/plain": [
       "high      162.945902\n",
       "low       164.509524\n",
       "normal    162.110526\n",
       "Name: Height, dtype: float64"
      ]
     },
     "execution_count": 15,
     "metadata": {},
     "output_type": "execute_result"
    }
   ],
   "source": [
    "def func(x):\n",
    "    if x < df['Weight'].quantile(0.25):\n",
    "        return 'low'\n",
    "    elif x > df['Weight'].quantile(0.75):\n",
    "        return 'high'\n",
    "    else:\n",
    "        return 'normal'\n",
    "\n",
    "df.groupby(func)['Height'].mean()"
   ]
  },
  {
   "cell_type": "markdown",
   "id": "05ab9429",
   "metadata": {},
   "source": [
    "#### 3.Groupby对象：拥有ngroups、groups、size 、get_group 等属性"
   ]
  },
  {
   "cell_type": "markdown",
   "id": "628787ba",
   "metadata": {},
   "source": [
    "#### 4.分组的三大操作：聚合agg、变换transform、过滤filter "
   ]
  },
  {
   "cell_type": "markdown",
   "id": "6f33cf4b",
   "metadata": {},
   "source": [
    "### 二、聚合函数"
   ]
  },
  {
   "cell_type": "markdown",
   "id": "7d65fecc",
   "metadata": {},
   "source": [
    "#### 1. 内置聚合函数\n",
    "##### max/min/mean/median/count/all/any/idxmax/idxmin/mad/nunique/skew/quantile/sum/std/var/sem/size/prod"
   ]
  },
  {
   "cell_type": "code",
   "execution_count": 18,
   "id": "52481a24",
   "metadata": {},
   "outputs": [],
   "source": [
    "gb = df.groupby('Gender')['Height']"
   ]
  },
  {
   "cell_type": "code",
   "execution_count": 19,
   "id": "7a50add5",
   "metadata": {},
   "outputs": [
    {
     "data": {
      "text/plain": [
       "Gender\n",
       "Female    True\n",
       "Male      True\n",
       "Name: Height, dtype: bool"
      ]
     },
     "execution_count": 19,
     "metadata": {},
     "output_type": "execute_result"
    }
   ],
   "source": [
    "#如果组中的所有值都是真实的，则返回 True，否则返回 False\n",
    "gb.all()"
   ]
  },
  {
   "cell_type": "code",
   "execution_count": 21,
   "id": "233333e6",
   "metadata": {},
   "outputs": [
    {
     "data": {
      "text/plain": [
       "Gender\n",
       "Female    True\n",
       "Male      True\n",
       "Name: Height, dtype: bool"
      ]
     },
     "execution_count": 21,
     "metadata": {},
     "output_type": "execute_result"
    }
   ],
   "source": [
    "#如果组中的任何值是真实的，则返回 True，否则返回 False。\n",
    "gb.any()"
   ]
  },
  {
   "cell_type": "code",
   "execution_count": 22,
   "id": "c122987a",
   "metadata": {},
   "outputs": [
    {
     "data": {
      "text/plain": [
       "Gender\n",
       "Female    4.088108\n",
       "Male      5.394617\n",
       "Name: Height, dtype: float64"
      ]
     },
     "execution_count": 22,
     "metadata": {},
     "output_type": "execute_result"
    }
   ],
   "source": [
    "#返回平均绝对偏差\n",
    "gb.mad()"
   ]
  },
  {
   "cell_type": "code",
   "execution_count": 23,
   "id": "055586d3",
   "metadata": {},
   "outputs": [
    {
     "data": {
      "text/plain": [
       "Gender\n",
       "Female   -0.219253\n",
       "Male      0.437535\n",
       "Name: Height, dtype: float64"
      ]
     },
     "execution_count": 23,
     "metadata": {},
     "output_type": "execute_result"
    }
   ],
   "source": [
    "#返回偏斜\n",
    "gb.skew()"
   ]
  },
  {
   "cell_type": "code",
   "execution_count": 24,
   "id": "d5c47cc4",
   "metadata": {},
   "outputs": [
    {
     "data": {
      "text/plain": [
       "Gender\n",
       "Female    0.439893\n",
       "Male      0.986985\n",
       "Name: Height, dtype: float64"
      ]
     },
     "execution_count": 24,
     "metadata": {},
     "output_type": "execute_result"
    }
   ],
   "source": [
    "#返回组平均值的标准误差，不包括缺失值\n",
    "gb.sem()"
   ]
  },
  {
   "cell_type": "code",
   "execution_count": 25,
   "id": "ba6c0fd7",
   "metadata": {},
   "outputs": [
    {
     "data": {
      "text/plain": [
       "Gender\n",
       "Female    4.232080e+290\n",
       "Male      1.594210e+114\n",
       "Name: Height, dtype: float64"
      ]
     },
     "execution_count": 25,
     "metadata": {},
     "output_type": "execute_result"
    }
   ],
   "source": [
    "#返回\n",
    "gb.prod()"
   ]
  },
  {
   "cell_type": "markdown",
   "id": "2d2d3fac",
   "metadata": {},
   "source": [
    "#### 2. agg方法"
   ]
  },
  {
   "cell_type": "markdown",
   "id": "fcf6fff5",
   "metadata": {},
   "source": [
    "##### a.使用多个函数：df.groupby(逻辑判断)[数据来源].agg([fun1,fun2,...])"
   ]
  },
  {
   "cell_type": "code",
   "execution_count": 26,
   "id": "4b5264fe",
   "metadata": {},
   "outputs": [
    {
     "data": {
      "text/html": [
       "<div>\n",
       "<style scoped>\n",
       "    .dataframe tbody tr th:only-of-type {\n",
       "        vertical-align: middle;\n",
       "    }\n",
       "\n",
       "    .dataframe tbody tr th {\n",
       "        vertical-align: top;\n",
       "    }\n",
       "\n",
       "    .dataframe thead tr th {\n",
       "        text-align: left;\n",
       "    }\n",
       "\n",
       "    .dataframe thead tr:last-of-type th {\n",
       "        text-align: right;\n",
       "    }\n",
       "</style>\n",
       "<table border=\"1\" class=\"dataframe\">\n",
       "  <thead>\n",
       "    <tr>\n",
       "      <th></th>\n",
       "      <th colspan=\"3\" halign=\"left\">Height</th>\n",
       "      <th colspan=\"3\" halign=\"left\">Weight</th>\n",
       "    </tr>\n",
       "    <tr>\n",
       "      <th></th>\n",
       "      <th>sum</th>\n",
       "      <th>idxmax</th>\n",
       "      <th>skew</th>\n",
       "      <th>sum</th>\n",
       "      <th>idxmax</th>\n",
       "      <th>skew</th>\n",
       "    </tr>\n",
       "    <tr>\n",
       "      <th>Gender</th>\n",
       "      <th></th>\n",
       "      <th></th>\n",
       "      <th></th>\n",
       "      <th></th>\n",
       "      <th></th>\n",
       "      <th></th>\n",
       "    </tr>\n",
       "  </thead>\n",
       "  <tbody>\n",
       "    <tr>\n",
       "      <th>Female</th>\n",
       "      <td>21014.0</td>\n",
       "      <td>28</td>\n",
       "      <td>-0.219253</td>\n",
       "      <td>6469.0</td>\n",
       "      <td>28</td>\n",
       "      <td>-0.268482</td>\n",
       "    </tr>\n",
       "    <tr>\n",
       "      <th>Male</th>\n",
       "      <td>8854.9</td>\n",
       "      <td>193</td>\n",
       "      <td>0.437535</td>\n",
       "      <td>3929.0</td>\n",
       "      <td>2</td>\n",
       "      <td>-0.332393</td>\n",
       "    </tr>\n",
       "  </tbody>\n",
       "</table>\n",
       "</div>"
      ],
      "text/plain": [
       "         Height                   Weight                 \n",
       "            sum idxmax      skew     sum idxmax      skew\n",
       "Gender                                                   \n",
       "Female  21014.0     28 -0.219253  6469.0     28 -0.268482\n",
       "Male     8854.9    193  0.437535  3929.0      2 -0.332393"
      ]
     },
     "execution_count": 26,
     "metadata": {},
     "output_type": "execute_result"
    }
   ],
   "source": [
    "df.groupby('Gender')[['Height', 'Weight']].agg(['sum', 'idxmax', 'skew'])"
   ]
  },
  {
   "cell_type": "markdown",
   "id": "20863f2a",
   "metadata": {},
   "source": [
    "##### b.对特定的列使用特定的聚合函数：df.groupby(逻辑判断)[数据来源].agg({'col1':[fun1,fun2...],'col2':[fun3,fun4,fun5]})"
   ]
  },
  {
   "cell_type": "code",
   "execution_count": 27,
   "id": "77c49930",
   "metadata": {},
   "outputs": [
    {
     "data": {
      "text/html": [
       "<div>\n",
       "<style scoped>\n",
       "    .dataframe tbody tr th:only-of-type {\n",
       "        vertical-align: middle;\n",
       "    }\n",
       "\n",
       "    .dataframe tbody tr th {\n",
       "        vertical-align: top;\n",
       "    }\n",
       "\n",
       "    .dataframe thead tr th {\n",
       "        text-align: left;\n",
       "    }\n",
       "\n",
       "    .dataframe thead tr:last-of-type th {\n",
       "        text-align: right;\n",
       "    }\n",
       "</style>\n",
       "<table border=\"1\" class=\"dataframe\">\n",
       "  <thead>\n",
       "    <tr>\n",
       "      <th></th>\n",
       "      <th colspan=\"2\" halign=\"left\">Height</th>\n",
       "      <th>Weight</th>\n",
       "    </tr>\n",
       "    <tr>\n",
       "      <th></th>\n",
       "      <th>mean</th>\n",
       "      <th>max</th>\n",
       "      <th>count</th>\n",
       "    </tr>\n",
       "    <tr>\n",
       "      <th>Gender</th>\n",
       "      <th></th>\n",
       "      <th></th>\n",
       "      <th></th>\n",
       "    </tr>\n",
       "  </thead>\n",
       "  <tbody>\n",
       "    <tr>\n",
       "      <th>Female</th>\n",
       "      <td>159.19697</td>\n",
       "      <td>170.2</td>\n",
       "      <td>135</td>\n",
       "    </tr>\n",
       "    <tr>\n",
       "      <th>Male</th>\n",
       "      <td>173.62549</td>\n",
       "      <td>193.9</td>\n",
       "      <td>54</td>\n",
       "    </tr>\n",
       "  </tbody>\n",
       "</table>\n",
       "</div>"
      ],
      "text/plain": [
       "           Height        Weight\n",
       "             mean    max  count\n",
       "Gender                         \n",
       "Female  159.19697  170.2    135\n",
       "Male    173.62549  193.9     54"
      ]
     },
     "execution_count": 27,
     "metadata": {},
     "output_type": "execute_result"
    }
   ],
   "source": [
    "df.groupby('Gender')[['Height', 'Weight']].agg({'Height':['mean','max'], 'Weight':'count'})"
   ]
  },
  {
   "cell_type": "markdown",
   "id": "350a27ac",
   "metadata": {},
   "source": [
    "##### c.使用自定义函数"
   ]
  },
  {
   "cell_type": "code",
   "execution_count": 28,
   "id": "f10d60d6",
   "metadata": {},
   "outputs": [
    {
     "data": {
      "text/html": [
       "<div>\n",
       "<style scoped>\n",
       "    .dataframe tbody tr th:only-of-type {\n",
       "        vertical-align: middle;\n",
       "    }\n",
       "\n",
       "    .dataframe tbody tr th {\n",
       "        vertical-align: top;\n",
       "    }\n",
       "\n",
       "    .dataframe thead th {\n",
       "        text-align: right;\n",
       "    }\n",
       "</style>\n",
       "<table border=\"1\" class=\"dataframe\">\n",
       "  <thead>\n",
       "    <tr style=\"text-align: right;\">\n",
       "      <th></th>\n",
       "      <th>Height</th>\n",
       "      <th>Weight</th>\n",
       "    </tr>\n",
       "    <tr>\n",
       "      <th>Gender</th>\n",
       "      <th></th>\n",
       "      <th></th>\n",
       "    </tr>\n",
       "  </thead>\n",
       "  <tbody>\n",
       "    <tr>\n",
       "      <th>Female</th>\n",
       "      <td>24.8</td>\n",
       "      <td>29.0</td>\n",
       "    </tr>\n",
       "    <tr>\n",
       "      <th>Male</th>\n",
       "      <td>38.2</td>\n",
       "      <td>38.0</td>\n",
       "    </tr>\n",
       "  </tbody>\n",
       "</table>\n",
       "</div>"
      ],
      "text/plain": [
       "        Height  Weight\n",
       "Gender                \n",
       "Female    24.8    29.0\n",
       "Male      38.2    38.0"
      ]
     },
     "execution_count": 28,
     "metadata": {},
     "output_type": "execute_result"
    }
   ],
   "source": [
    "df.groupby('Gender')[['Height', 'Weight']].agg(lambda x: x.max()-x.min())"
   ]
  },
  {
   "cell_type": "markdown",
   "id": "ac1ef3a3",
   "metadata": {},
   "source": [
    "##### 由于传入的是序列，因此序列上的方法和属性都是可以在函数中使用的，只需保证返回值是标量即可。下面的例子是指，如果组的指标均值，超过该指标的总体均值，返回High，否则返回Low。"
   ]
  },
  {
   "cell_type": "code",
   "execution_count": 30,
   "id": "424b4fe0",
   "metadata": {},
   "outputs": [
    {
     "data": {
      "text/html": [
       "<div>\n",
       "<style scoped>\n",
       "    .dataframe tbody tr th:only-of-type {\n",
       "        vertical-align: middle;\n",
       "    }\n",
       "\n",
       "    .dataframe tbody tr th {\n",
       "        vertical-align: top;\n",
       "    }\n",
       "\n",
       "    .dataframe thead th {\n",
       "        text-align: right;\n",
       "    }\n",
       "</style>\n",
       "<table border=\"1\" class=\"dataframe\">\n",
       "  <thead>\n",
       "    <tr style=\"text-align: right;\">\n",
       "      <th></th>\n",
       "      <th>Height</th>\n",
       "      <th>Weight</th>\n",
       "    </tr>\n",
       "    <tr>\n",
       "      <th>Gender</th>\n",
       "      <th></th>\n",
       "      <th></th>\n",
       "    </tr>\n",
       "  </thead>\n",
       "  <tbody>\n",
       "    <tr>\n",
       "      <th>Female</th>\n",
       "      <td>Low</td>\n",
       "      <td>Low</td>\n",
       "    </tr>\n",
       "    <tr>\n",
       "      <th>Male</th>\n",
       "      <td>High</td>\n",
       "      <td>High</td>\n",
       "    </tr>\n",
       "  </tbody>\n",
       "</table>\n",
       "</div>"
      ],
      "text/plain": [
       "       Height Weight\n",
       "Gender              \n",
       "Female    Low    Low\n",
       "Male     High   High"
      ]
     },
     "execution_count": 30,
     "metadata": {},
     "output_type": "execute_result"
    }
   ],
   "source": [
    "def my_func(s):\n",
    "    res = 'High'\n",
    "    if s.mean() <= df[s.name].mean():\n",
    "        res = 'Low'\n",
    "    return res\n",
    "\n",
    "df.groupby('Gender')[['Height', 'Weight']].agg(my_func)"
   ]
  },
  {
   "cell_type": "markdown",
   "id": "87f35b4b",
   "metadata": {},
   "source": [
    "##### d.聚合结果重命名\n",
    "##### 如果想要对聚合结果的列名进行重命名，只需要将上述函数的位置改写成元组，元组的第一个元素为新的名字，第二个位置为原来的函数，包括聚合字符串和自定义函数\n",
    "##### .agg([('new_name', old_name/func), ('new_name', old_name/func)])"
   ]
  },
  {
   "cell_type": "code",
   "execution_count": 31,
   "id": "015001ac",
   "metadata": {},
   "outputs": [
    {
     "data": {
      "text/html": [
       "<div>\n",
       "<style scoped>\n",
       "    .dataframe tbody tr th:only-of-type {\n",
       "        vertical-align: middle;\n",
       "    }\n",
       "\n",
       "    .dataframe tbody tr th {\n",
       "        vertical-align: top;\n",
       "    }\n",
       "\n",
       "    .dataframe thead tr th {\n",
       "        text-align: left;\n",
       "    }\n",
       "\n",
       "    .dataframe thead tr:last-of-type th {\n",
       "        text-align: right;\n",
       "    }\n",
       "</style>\n",
       "<table border=\"1\" class=\"dataframe\">\n",
       "  <thead>\n",
       "    <tr>\n",
       "      <th></th>\n",
       "      <th colspan=\"2\" halign=\"left\">Height</th>\n",
       "      <th colspan=\"2\" halign=\"left\">Weight</th>\n",
       "    </tr>\n",
       "    <tr>\n",
       "      <th></th>\n",
       "      <th>range</th>\n",
       "      <th>my_sum</th>\n",
       "      <th>range</th>\n",
       "      <th>my_sum</th>\n",
       "    </tr>\n",
       "    <tr>\n",
       "      <th>Gender</th>\n",
       "      <th></th>\n",
       "      <th></th>\n",
       "      <th></th>\n",
       "      <th></th>\n",
       "    </tr>\n",
       "  </thead>\n",
       "  <tbody>\n",
       "    <tr>\n",
       "      <th>Female</th>\n",
       "      <td>24.8</td>\n",
       "      <td>21014.0</td>\n",
       "      <td>29.0</td>\n",
       "      <td>6469.0</td>\n",
       "    </tr>\n",
       "    <tr>\n",
       "      <th>Male</th>\n",
       "      <td>38.2</td>\n",
       "      <td>8854.9</td>\n",
       "      <td>38.0</td>\n",
       "      <td>3929.0</td>\n",
       "    </tr>\n",
       "  </tbody>\n",
       "</table>\n",
       "</div>"
      ],
      "text/plain": [
       "       Height          Weight        \n",
       "        range   my_sum  range  my_sum\n",
       "Gender                               \n",
       "Female   24.8  21014.0   29.0  6469.0\n",
       "Male     38.2   8854.9   38.0  3929.0"
      ]
     },
     "execution_count": 31,
     "metadata": {},
     "output_type": "execute_result"
    }
   ],
   "source": [
    "df.groupby('Gender')[['Height', 'Weight']].agg([('range', lambda x: x.max()-x.min()), ('my_sum', 'sum')])"
   ]
  },
  {
   "cell_type": "code",
   "execution_count": 32,
   "id": "38b14c32",
   "metadata": {},
   "outputs": [
    {
     "data": {
      "text/html": [
       "<div>\n",
       "<style scoped>\n",
       "    .dataframe tbody tr th:only-of-type {\n",
       "        vertical-align: middle;\n",
       "    }\n",
       "\n",
       "    .dataframe tbody tr th {\n",
       "        vertical-align: top;\n",
       "    }\n",
       "\n",
       "    .dataframe thead tr th {\n",
       "        text-align: left;\n",
       "    }\n",
       "\n",
       "    .dataframe thead tr:last-of-type th {\n",
       "        text-align: right;\n",
       "    }\n",
       "</style>\n",
       "<table border=\"1\" class=\"dataframe\">\n",
       "  <thead>\n",
       "    <tr>\n",
       "      <th></th>\n",
       "      <th colspan=\"2\" halign=\"left\">Height</th>\n",
       "      <th>Weight</th>\n",
       "    </tr>\n",
       "    <tr>\n",
       "      <th></th>\n",
       "      <th>my_func</th>\n",
       "      <th>sum</th>\n",
       "      <th>&lt;lambda&gt;</th>\n",
       "    </tr>\n",
       "    <tr>\n",
       "      <th>Gender</th>\n",
       "      <th></th>\n",
       "      <th></th>\n",
       "      <th></th>\n",
       "    </tr>\n",
       "  </thead>\n",
       "  <tbody>\n",
       "    <tr>\n",
       "      <th>Female</th>\n",
       "      <td>Low</td>\n",
       "      <td>21014.0</td>\n",
       "      <td>63.0</td>\n",
       "    </tr>\n",
       "    <tr>\n",
       "      <th>Male</th>\n",
       "      <td>High</td>\n",
       "      <td>8854.9</td>\n",
       "      <td>89.0</td>\n",
       "    </tr>\n",
       "  </tbody>\n",
       "</table>\n",
       "</div>"
      ],
      "text/plain": [
       "        Height            Weight\n",
       "       my_func      sum <lambda>\n",
       "Gender                          \n",
       "Female     Low  21014.0     63.0\n",
       "Male      High   8854.9     89.0"
      ]
     },
     "execution_count": 32,
     "metadata": {},
     "output_type": "execute_result"
    }
   ],
   "source": [
    "df.groupby('Gender')[['Height', 'Weight']].agg({'Height': [('my_func', my_func), 'sum'],'Weight': lambda x:x.max()})"
   ]
  },
  {
   "cell_type": "markdown",
   "id": "c7091aa0",
   "metadata": {},
   "source": [
    "### 三、变换和过滤"
   ]
  },
  {
   "cell_type": "markdown",
   "id": "ddca7bcd",
   "metadata": {},
   "source": [
    "#### 1. 变换函数与transform方法\n",
    "##### 变换函数的返回值为同长度的序列，最常用的内置变换函数是累计函数： cumcount/cumsum/cumprod/cummax/cummin ，它们的使用方式和聚合函数类似，只不过完成的是组内累计操作。"
   ]
  },
  {
   "cell_type": "code",
   "execution_count": 35,
   "id": "176aeff8",
   "metadata": {},
   "outputs": [
    {
     "data": {
      "text/html": [
       "<div>\n",
       "<style scoped>\n",
       "    .dataframe tbody tr th:only-of-type {\n",
       "        vertical-align: middle;\n",
       "    }\n",
       "\n",
       "    .dataframe tbody tr th {\n",
       "        vertical-align: top;\n",
       "    }\n",
       "\n",
       "    .dataframe thead th {\n",
       "        text-align: right;\n",
       "    }\n",
       "</style>\n",
       "<table border=\"1\" class=\"dataframe\">\n",
       "  <thead>\n",
       "    <tr style=\"text-align: right;\">\n",
       "      <th></th>\n",
       "      <th>Height</th>\n",
       "      <th>Weight</th>\n",
       "    </tr>\n",
       "  </thead>\n",
       "  <tbody>\n",
       "    <tr>\n",
       "      <th>0</th>\n",
       "      <td>158.9</td>\n",
       "      <td>46.0</td>\n",
       "    </tr>\n",
       "    <tr>\n",
       "      <th>1</th>\n",
       "      <td>166.5</td>\n",
       "      <td>70.0</td>\n",
       "    </tr>\n",
       "    <tr>\n",
       "      <th>2</th>\n",
       "      <td>355.4</td>\n",
       "      <td>159.0</td>\n",
       "    </tr>\n",
       "    <tr>\n",
       "      <th>3</th>\n",
       "      <td>NaN</td>\n",
       "      <td>87.0</td>\n",
       "    </tr>\n",
       "    <tr>\n",
       "      <th>4</th>\n",
       "      <td>529.4</td>\n",
       "      <td>233.0</td>\n",
       "    </tr>\n",
       "    <tr>\n",
       "      <th>...</th>\n",
       "      <td>...</td>\n",
       "      <td>...</td>\n",
       "    </tr>\n",
       "    <tr>\n",
       "      <th>195</th>\n",
       "      <td>20699.2</td>\n",
       "      <td>6374.0</td>\n",
       "    </tr>\n",
       "    <tr>\n",
       "      <th>196</th>\n",
       "      <td>20860.1</td>\n",
       "      <td>6424.0</td>\n",
       "    </tr>\n",
       "    <tr>\n",
       "      <th>197</th>\n",
       "      <td>21014.0</td>\n",
       "      <td>6469.0</td>\n",
       "    </tr>\n",
       "    <tr>\n",
       "      <th>198</th>\n",
       "      <td>8699.2</td>\n",
       "      <td>3878.0</td>\n",
       "    </tr>\n",
       "    <tr>\n",
       "      <th>199</th>\n",
       "      <td>8854.9</td>\n",
       "      <td>3929.0</td>\n",
       "    </tr>\n",
       "  </tbody>\n",
       "</table>\n",
       "<p>200 rows × 2 columns</p>\n",
       "</div>"
      ],
      "text/plain": [
       "      Height  Weight\n",
       "0      158.9    46.0\n",
       "1      166.5    70.0\n",
       "2      355.4   159.0\n",
       "3        NaN    87.0\n",
       "4      529.4   233.0\n",
       "..       ...     ...\n",
       "195  20699.2  6374.0\n",
       "196  20860.1  6424.0\n",
       "197  21014.0  6469.0\n",
       "198   8699.2  3878.0\n",
       "199   8854.9  3929.0\n",
       "\n",
       "[200 rows x 2 columns]"
      ]
     },
     "execution_count": 35,
     "metadata": {},
     "output_type": "execute_result"
    }
   ],
   "source": [
    "df.groupby('Gender')[['Height', 'Weight']].cumsum()"
   ]
  },
  {
   "cell_type": "markdown",
   "id": "5548e706",
   "metadata": {},
   "source": [
    "### 没弄懂transform的用法"
   ]
  },
  {
   "cell_type": "markdown",
   "id": "e558ac05",
   "metadata": {},
   "source": [
    "#### 2. 组索引与过滤：类似sql里groupby后的having"
   ]
  },
  {
   "cell_type": "code",
   "execution_count": 37,
   "id": "2c9c2236",
   "metadata": {},
   "outputs": [
    {
     "data": {
      "text/html": [
       "<div>\n",
       "<style scoped>\n",
       "    .dataframe tbody tr th:only-of-type {\n",
       "        vertical-align: middle;\n",
       "    }\n",
       "\n",
       "    .dataframe tbody tr th {\n",
       "        vertical-align: top;\n",
       "    }\n",
       "\n",
       "    .dataframe thead th {\n",
       "        text-align: right;\n",
       "    }\n",
       "</style>\n",
       "<table border=\"1\" class=\"dataframe\">\n",
       "  <thead>\n",
       "    <tr style=\"text-align: right;\">\n",
       "      <th></th>\n",
       "      <th>Height</th>\n",
       "      <th>Weight</th>\n",
       "    </tr>\n",
       "  </thead>\n",
       "  <tbody>\n",
       "    <tr>\n",
       "      <th>0</th>\n",
       "      <td>158.9</td>\n",
       "      <td>46.0</td>\n",
       "    </tr>\n",
       "    <tr>\n",
       "      <th>3</th>\n",
       "      <td>NaN</td>\n",
       "      <td>41.0</td>\n",
       "    </tr>\n",
       "    <tr>\n",
       "      <th>5</th>\n",
       "      <td>158.0</td>\n",
       "      <td>51.0</td>\n",
       "    </tr>\n",
       "    <tr>\n",
       "      <th>6</th>\n",
       "      <td>162.5</td>\n",
       "      <td>52.0</td>\n",
       "    </tr>\n",
       "    <tr>\n",
       "      <th>7</th>\n",
       "      <td>161.9</td>\n",
       "      <td>50.0</td>\n",
       "    </tr>\n",
       "  </tbody>\n",
       "</table>\n",
       "</div>"
      ],
      "text/plain": [
       "   Height  Weight\n",
       "0   158.9    46.0\n",
       "3     NaN    41.0\n",
       "5   158.0    51.0\n",
       "6   162.5    52.0\n",
       "7   161.9    50.0"
      ]
     },
     "execution_count": 37,
     "metadata": {},
     "output_type": "execute_result"
    }
   ],
   "source": [
    "df.groupby('Gender')[['Height', 'Weight']].filter(lambda x: x.shape[0] > 100).head()"
   ]
  },
  {
   "cell_type": "markdown",
   "id": "576ce01e",
   "metadata": {},
   "source": [
    "### 四、跨列分组"
   ]
  },
  {
   "cell_type": "markdown",
   "id": "51c14517",
   "metadata": {},
   "source": [
    "#### apply的使用"
   ]
  },
  {
   "cell_type": "code",
   "execution_count": 38,
   "id": "51985649",
   "metadata": {},
   "outputs": [
    {
     "data": {
      "text/plain": [
       "Gender\n",
       "Female    18.860930\n",
       "Male      24.318654\n",
       "dtype: float64"
      ]
     },
     "execution_count": 38,
     "metadata": {},
     "output_type": "execute_result"
    }
   ],
   "source": [
    "def BMI(x):\n",
    "    Height = x['Height']/100\n",
    "    Weight = x['Weight']\n",
    "    BMI_value = Weight/Height**2\n",
    "    return BMI_value.mean()\n",
    "\n",
    "df.groupby('Gender')[['Height', 'Weight']].apply(BMI)"
   ]
  },
  {
   "cell_type": "markdown",
   "id": "646889d1",
   "metadata": {},
   "source": [
    "### 五、练习"
   ]
  },
  {
   "cell_type": "markdown",
   "id": "2f59f4cf",
   "metadata": {},
   "source": [
    "#### Ex1：汽车数据集"
   ]
  },
  {
   "cell_type": "code",
   "execution_count": 40,
   "id": "0ea22839",
   "metadata": {},
   "outputs": [
    {
     "data": {
      "text/html": [
       "<div>\n",
       "<style scoped>\n",
       "    .dataframe tbody tr th:only-of-type {\n",
       "        vertical-align: middle;\n",
       "    }\n",
       "\n",
       "    .dataframe tbody tr th {\n",
       "        vertical-align: top;\n",
       "    }\n",
       "\n",
       "    .dataframe thead th {\n",
       "        text-align: right;\n",
       "    }\n",
       "</style>\n",
       "<table border=\"1\" class=\"dataframe\">\n",
       "  <thead>\n",
       "    <tr style=\"text-align: right;\">\n",
       "      <th></th>\n",
       "      <th>Brand</th>\n",
       "      <th>Price</th>\n",
       "      <th>Country</th>\n",
       "      <th>Reliability</th>\n",
       "      <th>Mileage</th>\n",
       "      <th>Type</th>\n",
       "      <th>Weight</th>\n",
       "      <th>Disp.</th>\n",
       "      <th>HP</th>\n",
       "    </tr>\n",
       "  </thead>\n",
       "  <tbody>\n",
       "    <tr>\n",
       "      <th>0</th>\n",
       "      <td>Eagle Summit 4</td>\n",
       "      <td>8895</td>\n",
       "      <td>USA</td>\n",
       "      <td>4.0</td>\n",
       "      <td>33</td>\n",
       "      <td>Small</td>\n",
       "      <td>2560</td>\n",
       "      <td>97</td>\n",
       "      <td>113</td>\n",
       "    </tr>\n",
       "    <tr>\n",
       "      <th>1</th>\n",
       "      <td>Ford Escort   4</td>\n",
       "      <td>7402</td>\n",
       "      <td>USA</td>\n",
       "      <td>2.0</td>\n",
       "      <td>33</td>\n",
       "      <td>Small</td>\n",
       "      <td>2345</td>\n",
       "      <td>114</td>\n",
       "      <td>90</td>\n",
       "    </tr>\n",
       "    <tr>\n",
       "      <th>2</th>\n",
       "      <td>Ford Festiva 4</td>\n",
       "      <td>6319</td>\n",
       "      <td>Korea</td>\n",
       "      <td>4.0</td>\n",
       "      <td>37</td>\n",
       "      <td>Small</td>\n",
       "      <td>1845</td>\n",
       "      <td>81</td>\n",
       "      <td>63</td>\n",
       "    </tr>\n",
       "  </tbody>\n",
       "</table>\n",
       "</div>"
      ],
      "text/plain": [
       "             Brand  Price Country  Reliability  Mileage   Type  Weight  Disp.  \\\n",
       "0   Eagle Summit 4   8895     USA          4.0       33  Small    2560     97   \n",
       "1  Ford Escort   4   7402     USA          2.0       33  Small    2345    114   \n",
       "2   Ford Festiva 4   6319   Korea          4.0       37  Small    1845     81   \n",
       "\n",
       "    HP  \n",
       "0  113  \n",
       "1   90  \n",
       "2   63  "
      ]
     },
     "execution_count": 40,
     "metadata": {},
     "output_type": "execute_result"
    }
   ],
   "source": [
    "df = pd.read_csv('data/car.csv')\n",
    "df.head(3)"
   ]
  },
  {
   "cell_type": "markdown",
   "id": "05c62dea",
   "metadata": {},
   "source": [
    "##### 1.先过滤出所属 Country 数超过2个的汽车，即若该汽车的 Country 在总体数据集中出现次数不超过2则剔除，再按 Country 分组计算价格均值、价格变异系数、该 Country 的汽车数量，其中变异系数的计算方法是标准差除以均值，并在结果中把变异系数重命名为 CoV 。"
   ]
  },
  {
   "cell_type": "code",
   "execution_count": 43,
   "id": "28932600",
   "metadata": {},
   "outputs": [
    {
     "data": {
      "text/plain": [
       "Brand\n",
       "Acura Legend V6                  1\n",
       "Audi 80 4                        1\n",
       "Buick Century 4                  1\n",
       "Buick Le Sabre V6                1\n",
       "Buick Skylark 4                  1\n",
       "Chevrolet Beretta 4              1\n",
       "Chevrolet Camaro V8              1\n",
       "Chevrolet Caprice V8             1\n",
       "Chevrolet Lumina APV V6          1\n",
       "Chrysler Le Baron Coupe          1\n",
       "Chrysler Le Baron V6             1\n",
       "Chrysler New Yorker V6           1\n",
       "Dodge Daytona                    1\n",
       "Dodge Grand Caravan V6           1\n",
       "Eagle Premier V6                 1\n",
       "Eagle Summit 4                   1\n",
       "Ford Aerostar V6                 1\n",
       "Ford Escort   4                  1\n",
       "Ford Festiva 4                   1\n",
       "Ford LTD Crown Victoria V8       1\n",
       "Ford Mustang V8                  1\n",
       "Ford Probe                       1\n",
       "Ford Taurus V6                   1\n",
       "Ford Tempo 4                     1\n",
       "Ford Thunderbird V6              1\n",
       "Honda Accord 4                   1\n",
       "Honda Civic 4                    1\n",
       "Honda Civic CRX Si 4             1\n",
       "Honda Prelude Si 4WS 4           1\n",
       "Hyundai Sonata 4                 1\n",
       "Mazda 626 4                      1\n",
       "Mazda 929 V6                     1\n",
       "Mazda MPV V6                     1\n",
       "Mazda Protege 4                  1\n",
       "Mercury Tracer 4                 1\n",
       "Mitsubishi Galant 4              1\n",
       "Mitsubishi Sigma V6              1\n",
       "Mitsubishi Wagon 4               1\n",
       "Nissan 240SX 4                   1\n",
       "Nissan Axxess 4                  1\n",
       "Nissan Maxima V6                 1\n",
       "Nissan Sentra 4                  1\n",
       "Nissan Stanza 4                  1\n",
       "Nissan Van 4                     1\n",
       "Oldsmobile Calais 4              1\n",
       "Oldsmobile Cutlass Ciera 4       1\n",
       "Oldsmobile Cutlass Supreme V6    1\n",
       "Peugeot 405 4                    1\n",
       "Plymouth Laser                   1\n",
       "Pontiac LeMans 4                 1\n",
       "Subaru Justy 3                   1\n",
       "Subaru Legacy 4                  1\n",
       "Subaru Loyale 4                  1\n",
       "Subaru XT 4                      1\n",
       "Toyota Camry 4                   1\n",
       "Toyota Corolla 4                 1\n",
       "Toyota Cressida 6                1\n",
       "Toyota Tercel 4                  1\n",
       "Volkswagen Jetta 4               1\n",
       "Volvo 240 4                      1\n",
       "Name: Country, dtype: int64"
      ]
     },
     "execution_count": 43,
     "metadata": {},
     "output_type": "execute_result"
    }
   ],
   "source": [
    "df.groupby('Brand')['Country'].count()"
   ]
  }
 ],
 "metadata": {
  "kernelspec": {
   "display_name": "Python 3 (ipykernel)",
   "language": "python",
   "name": "python3"
  },
  "language_info": {
   "codemirror_mode": {
    "name": "ipython",
    "version": 3
   },
   "file_extension": ".py",
   "mimetype": "text/x-python",
   "name": "python",
   "nbconvert_exporter": "python",
   "pygments_lexer": "ipython3",
   "version": "3.9.12"
  }
 },
 "nbformat": 4,
 "nbformat_minor": 5
}
